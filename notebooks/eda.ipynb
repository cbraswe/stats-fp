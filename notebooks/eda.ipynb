{
 "cells": [
  {
   "cell_type": "markdown",
   "metadata": {},
   "source": [
    "## Is the Number of Stolen Firearms Linear"
   ]
  },
  {
   "cell_type": "code",
   "execution_count": 76,
   "metadata": {},
   "outputs": [],
   "source": [
    "import numpy as np\n",
    "import pandas as pd\n",
    "from sklearn.preprocessing import OneHotEncoder\n",
    "from sklearn.linear_model import LogisticRegression\n",
    "import statsmodels.api as sm\n",
    "import matplotlib.pyplot as plt"
   ]
  },
  {
   "cell_type": "markdown",
   "metadata": {},
   "source": [
    "### Does logistic regression work"
   ]
  },
  {
   "cell_type": "code",
   "execution_count": 3,
   "metadata": {},
   "outputs": [
    {
     "name": "stderr",
     "output_type": "stream",
     "text": [
      "<ipython-input-3-e0eb150eac32>:1: DtypeWarning: Columns (11,16,21,22,23) have mixed types. Specify dtype option on import or set low_memory=False.\n",
      "  viol_crime = pd.read_csv('..\\data\\processed\\offenses_firearm_indicator.csv')\n",
      "<ipython-input-3-e0eb150eac32>:2: DtypeWarning: Columns (11) have mixed types. Specify dtype option on import or set low_memory=False.\n",
      "  firearm_theft = pd.read_csv(r'C:\\Users\\brasw\\Desktop\\School\\Fall 23\\stats\\stats-fp\\data\\processed\\theft_mv_firearms.csv')\n"
     ]
    }
   ],
   "source": [
    "viol_crime = pd.read_csv('..\\data\\processed\\offenses_firearm_indicator.csv')\n",
    "firearm_theft = pd.read_csv(r'C:\\Users\\brasw\\Desktop\\School\\Fall 23\\stats\\stats-fp\\data\\processed\\theft_mv_firearms.csv')"
   ]
  },
  {
   "cell_type": "code",
   "execution_count": 81,
   "metadata": {},
   "outputs": [],
   "source": [
    "# lets just do virginia - aggregrate by year\n",
    "firearm_crimes = viol_crime[(viol_crime['state_abb']=='VA')&(viol_crime['firearm_involved']==1)].groupby('year').agg(CtFirearmCrimes=('year', 'count'))"
   ]
  },
  {
   "cell_type": "code",
   "execution_count": 82,
   "metadata": {},
   "outputs": [],
   "source": [
    "sum_stolen_firearms = firearm_theft[firearm_theft['state_abb']=='VA'].groupby('year').agg(SumFirearmsStolen=('NumFirearmsStolen', 'sum'))"
   ]
  },
  {
   "cell_type": "code",
   "execution_count": 83,
   "metadata": {},
   "outputs": [],
   "source": [
    "# merge the two dataframes together\n",
    "agg_data = firearm_crimes.merge(sum_stolen_firearms, on='year')"
   ]
  },
  {
   "cell_type": "code",
   "execution_count": 84,
   "metadata": {},
   "outputs": [],
   "source": [
    "agg_data.reset_index(inplace=True)"
   ]
  },
  {
   "cell_type": "markdown",
   "metadata": {},
   "source": [
    "# Some random virginia gun law\n",
    "Implemented 2016: prohibited possessor"
   ]
  },
  {
   "cell_type": "code",
   "execution_count": 85,
   "metadata": {},
   "outputs": [],
   "source": [
    "agg_data.loc[agg_data['year'] < 2016, 'PossessorLaw'] = 0\n",
    "agg_data['PossessorLaw'].fillna(1, inplace=True)"
   ]
  },
  {
   "cell_type": "code",
   "execution_count": 86,
   "metadata": {},
   "outputs": [
    {
     "data": {
      "text/html": [
       "<div>\n",
       "<style scoped>\n",
       "    .dataframe tbody tr th:only-of-type {\n",
       "        vertical-align: middle;\n",
       "    }\n",
       "\n",
       "    .dataframe tbody tr th {\n",
       "        vertical-align: top;\n",
       "    }\n",
       "\n",
       "    .dataframe thead th {\n",
       "        text-align: right;\n",
       "    }\n",
       "</style>\n",
       "<table border=\"1\" class=\"dataframe\">\n",
       "  <thead>\n",
       "    <tr style=\"text-align: right;\">\n",
       "      <th></th>\n",
       "      <th>year</th>\n",
       "      <th>CtFirearmCrimes</th>\n",
       "      <th>SumFirearmsStolen</th>\n",
       "      <th>PossessorLaw</th>\n",
       "    </tr>\n",
       "  </thead>\n",
       "  <tbody>\n",
       "    <tr>\n",
       "      <th>0</th>\n",
       "      <td>2010.0</td>\n",
       "      <td>4955</td>\n",
       "      <td>2081</td>\n",
       "      <td>0.0</td>\n",
       "    </tr>\n",
       "    <tr>\n",
       "      <th>1</th>\n",
       "      <td>2011.0</td>\n",
       "      <td>4666</td>\n",
       "      <td>2098</td>\n",
       "      <td>0.0</td>\n",
       "    </tr>\n",
       "    <tr>\n",
       "      <th>2</th>\n",
       "      <td>2012.0</td>\n",
       "      <td>4498</td>\n",
       "      <td>2418</td>\n",
       "      <td>0.0</td>\n",
       "    </tr>\n",
       "    <tr>\n",
       "      <th>3</th>\n",
       "      <td>2013.0</td>\n",
       "      <td>4385</td>\n",
       "      <td>2417</td>\n",
       "      <td>0.0</td>\n",
       "    </tr>\n",
       "    <tr>\n",
       "      <th>4</th>\n",
       "      <td>2014.0</td>\n",
       "      <td>4392</td>\n",
       "      <td>2307</td>\n",
       "      <td>0.0</td>\n",
       "    </tr>\n",
       "    <tr>\n",
       "      <th>5</th>\n",
       "      <td>2015.0</td>\n",
       "      <td>4833</td>\n",
       "      <td>2686</td>\n",
       "      <td>0.0</td>\n",
       "    </tr>\n",
       "    <tr>\n",
       "      <th>6</th>\n",
       "      <td>2016.0</td>\n",
       "      <td>5568</td>\n",
       "      <td>3435</td>\n",
       "      <td>1.0</td>\n",
       "    </tr>\n",
       "    <tr>\n",
       "      <th>7</th>\n",
       "      <td>2017.0</td>\n",
       "      <td>4935</td>\n",
       "      <td>3757</td>\n",
       "      <td>1.0</td>\n",
       "    </tr>\n",
       "    <tr>\n",
       "      <th>8</th>\n",
       "      <td>2018.0</td>\n",
       "      <td>4511</td>\n",
       "      <td>3338</td>\n",
       "      <td>1.0</td>\n",
       "    </tr>\n",
       "    <tr>\n",
       "      <th>9</th>\n",
       "      <td>2019.0</td>\n",
       "      <td>4736</td>\n",
       "      <td>3500</td>\n",
       "      <td>1.0</td>\n",
       "    </tr>\n",
       "    <tr>\n",
       "      <th>10</th>\n",
       "      <td>2020.0</td>\n",
       "      <td>5481</td>\n",
       "      <td>4677</td>\n",
       "      <td>1.0</td>\n",
       "    </tr>\n",
       "  </tbody>\n",
       "</table>\n",
       "</div>"
      ],
      "text/plain": [
       "      year  CtFirearmCrimes  SumFirearmsStolen  PossessorLaw\n",
       "0   2010.0             4955               2081           0.0\n",
       "1   2011.0             4666               2098           0.0\n",
       "2   2012.0             4498               2418           0.0\n",
       "3   2013.0             4385               2417           0.0\n",
       "4   2014.0             4392               2307           0.0\n",
       "5   2015.0             4833               2686           0.0\n",
       "6   2016.0             5568               3435           1.0\n",
       "7   2017.0             4935               3757           1.0\n",
       "8   2018.0             4511               3338           1.0\n",
       "9   2019.0             4736               3500           1.0\n",
       "10  2020.0             5481               4677           1.0"
      ]
     },
     "execution_count": 86,
     "metadata": {},
     "output_type": "execute_result"
    }
   ],
   "source": [
    "agg_data"
   ]
  },
  {
   "cell_type": "code",
   "execution_count": 87,
   "metadata": {},
   "outputs": [],
   "source": [
    "va_viol_crime = viol_crime[viol_crime['state_abb']=='VA']"
   ]
  },
  {
   "cell_type": "code",
   "execution_count": 88,
   "metadata": {},
   "outputs": [],
   "source": [
    "va_viol_crime = va_viol_crime[['ucr_offense_code', 'year', 'firearm_involved']]"
   ]
  },
  {
   "cell_type": "code",
   "execution_count": 89,
   "metadata": {},
   "outputs": [],
   "source": [
    "dummies = pd.get_dummies(va_viol_crime['ucr_offense_code'])"
   ]
  },
  {
   "cell_type": "code",
   "execution_count": 90,
   "metadata": {},
   "outputs": [],
   "source": [
    "for col in dummies.columns:\n",
    "    dummies[col] = dummies[col].astype(int)"
   ]
  },
  {
   "cell_type": "code",
   "execution_count": 91,
   "metadata": {},
   "outputs": [],
   "source": [
    "va_viol_crime = va_viol_crime.merge(dummies,left_index=True, right_index=True)"
   ]
  },
  {
   "cell_type": "code",
   "execution_count": 92,
   "metadata": {},
   "outputs": [],
   "source": [
    "va_viol_crime.drop(columns=['ucr_offense_code'], inplace=True)"
   ]
  },
  {
   "cell_type": "code",
   "execution_count": 93,
   "metadata": {},
   "outputs": [],
   "source": [
    "va_viol_crime = va_viol_crime.merge(agg_data, on='year')"
   ]
  },
  {
   "cell_type": "code",
   "execution_count": 94,
   "metadata": {},
   "outputs": [
    {
     "data": {
      "text/html": [
       "<div>\n",
       "<style scoped>\n",
       "    .dataframe tbody tr th:only-of-type {\n",
       "        vertical-align: middle;\n",
       "    }\n",
       "\n",
       "    .dataframe tbody tr th {\n",
       "        vertical-align: top;\n",
       "    }\n",
       "\n",
       "    .dataframe thead th {\n",
       "        text-align: right;\n",
       "    }\n",
       "</style>\n",
       "<table border=\"1\" class=\"dataframe\">\n",
       "  <thead>\n",
       "    <tr style=\"text-align: right;\">\n",
       "      <th></th>\n",
       "      <th>year</th>\n",
       "      <th>firearm_involved</th>\n",
       "      <th>aggravated assault</th>\n",
       "      <th>murder/nonnegligent manslaughter</th>\n",
       "      <th>robbery</th>\n",
       "      <th>CtFirearmCrimes</th>\n",
       "      <th>SumFirearmsStolen</th>\n",
       "      <th>PossessorLaw</th>\n",
       "    </tr>\n",
       "  </thead>\n",
       "  <tbody>\n",
       "    <tr>\n",
       "      <th>0</th>\n",
       "      <td>2010.0</td>\n",
       "      <td>0</td>\n",
       "      <td>1</td>\n",
       "      <td>0</td>\n",
       "      <td>0</td>\n",
       "      <td>4955</td>\n",
       "      <td>2081</td>\n",
       "      <td>0.0</td>\n",
       "    </tr>\n",
       "    <tr>\n",
       "      <th>1</th>\n",
       "      <td>2010.0</td>\n",
       "      <td>1</td>\n",
       "      <td>0</td>\n",
       "      <td>0</td>\n",
       "      <td>1</td>\n",
       "      <td>4955</td>\n",
       "      <td>2081</td>\n",
       "      <td>0.0</td>\n",
       "    </tr>\n",
       "    <tr>\n",
       "      <th>2</th>\n",
       "      <td>2010.0</td>\n",
       "      <td>0</td>\n",
       "      <td>1</td>\n",
       "      <td>0</td>\n",
       "      <td>0</td>\n",
       "      <td>4955</td>\n",
       "      <td>2081</td>\n",
       "      <td>0.0</td>\n",
       "    </tr>\n",
       "    <tr>\n",
       "      <th>3</th>\n",
       "      <td>2010.0</td>\n",
       "      <td>0</td>\n",
       "      <td>1</td>\n",
       "      <td>0</td>\n",
       "      <td>0</td>\n",
       "      <td>4955</td>\n",
       "      <td>2081</td>\n",
       "      <td>0.0</td>\n",
       "    </tr>\n",
       "    <tr>\n",
       "      <th>4</th>\n",
       "      <td>2010.0</td>\n",
       "      <td>0</td>\n",
       "      <td>0</td>\n",
       "      <td>1</td>\n",
       "      <td>0</td>\n",
       "      <td>4955</td>\n",
       "      <td>2081</td>\n",
       "      <td>0.0</td>\n",
       "    </tr>\n",
       "    <tr>\n",
       "      <th>5</th>\n",
       "      <td>2010.0</td>\n",
       "      <td>1</td>\n",
       "      <td>0</td>\n",
       "      <td>0</td>\n",
       "      <td>1</td>\n",
       "      <td>4955</td>\n",
       "      <td>2081</td>\n",
       "      <td>0.0</td>\n",
       "    </tr>\n",
       "    <tr>\n",
       "      <th>6</th>\n",
       "      <td>2010.0</td>\n",
       "      <td>1</td>\n",
       "      <td>0</td>\n",
       "      <td>0</td>\n",
       "      <td>1</td>\n",
       "      <td>4955</td>\n",
       "      <td>2081</td>\n",
       "      <td>0.0</td>\n",
       "    </tr>\n",
       "    <tr>\n",
       "      <th>7</th>\n",
       "      <td>2010.0</td>\n",
       "      <td>1</td>\n",
       "      <td>1</td>\n",
       "      <td>0</td>\n",
       "      <td>0</td>\n",
       "      <td>4955</td>\n",
       "      <td>2081</td>\n",
       "      <td>0.0</td>\n",
       "    </tr>\n",
       "    <tr>\n",
       "      <th>8</th>\n",
       "      <td>2010.0</td>\n",
       "      <td>1</td>\n",
       "      <td>0</td>\n",
       "      <td>0</td>\n",
       "      <td>1</td>\n",
       "      <td>4955</td>\n",
       "      <td>2081</td>\n",
       "      <td>0.0</td>\n",
       "    </tr>\n",
       "    <tr>\n",
       "      <th>9</th>\n",
       "      <td>2010.0</td>\n",
       "      <td>0</td>\n",
       "      <td>0</td>\n",
       "      <td>0</td>\n",
       "      <td>1</td>\n",
       "      <td>4955</td>\n",
       "      <td>2081</td>\n",
       "      <td>0.0</td>\n",
       "    </tr>\n",
       "    <tr>\n",
       "      <th>10</th>\n",
       "      <td>2010.0</td>\n",
       "      <td>1</td>\n",
       "      <td>0</td>\n",
       "      <td>0</td>\n",
       "      <td>1</td>\n",
       "      <td>4955</td>\n",
       "      <td>2081</td>\n",
       "      <td>0.0</td>\n",
       "    </tr>\n",
       "    <tr>\n",
       "      <th>11</th>\n",
       "      <td>2010.0</td>\n",
       "      <td>0</td>\n",
       "      <td>0</td>\n",
       "      <td>0</td>\n",
       "      <td>1</td>\n",
       "      <td>4955</td>\n",
       "      <td>2081</td>\n",
       "      <td>0.0</td>\n",
       "    </tr>\n",
       "    <tr>\n",
       "      <th>12</th>\n",
       "      <td>2010.0</td>\n",
       "      <td>0</td>\n",
       "      <td>0</td>\n",
       "      <td>0</td>\n",
       "      <td>1</td>\n",
       "      <td>4955</td>\n",
       "      <td>2081</td>\n",
       "      <td>0.0</td>\n",
       "    </tr>\n",
       "    <tr>\n",
       "      <th>13</th>\n",
       "      <td>2010.0</td>\n",
       "      <td>1</td>\n",
       "      <td>0</td>\n",
       "      <td>0</td>\n",
       "      <td>1</td>\n",
       "      <td>4955</td>\n",
       "      <td>2081</td>\n",
       "      <td>0.0</td>\n",
       "    </tr>\n",
       "    <tr>\n",
       "      <th>14</th>\n",
       "      <td>2010.0</td>\n",
       "      <td>0</td>\n",
       "      <td>0</td>\n",
       "      <td>1</td>\n",
       "      <td>0</td>\n",
       "      <td>4955</td>\n",
       "      <td>2081</td>\n",
       "      <td>0.0</td>\n",
       "    </tr>\n",
       "    <tr>\n",
       "      <th>15</th>\n",
       "      <td>2010.0</td>\n",
       "      <td>1</td>\n",
       "      <td>1</td>\n",
       "      <td>0</td>\n",
       "      <td>0</td>\n",
       "      <td>4955</td>\n",
       "      <td>2081</td>\n",
       "      <td>0.0</td>\n",
       "    </tr>\n",
       "    <tr>\n",
       "      <th>16</th>\n",
       "      <td>2010.0</td>\n",
       "      <td>0</td>\n",
       "      <td>0</td>\n",
       "      <td>0</td>\n",
       "      <td>1</td>\n",
       "      <td>4955</td>\n",
       "      <td>2081</td>\n",
       "      <td>0.0</td>\n",
       "    </tr>\n",
       "    <tr>\n",
       "      <th>17</th>\n",
       "      <td>2010.0</td>\n",
       "      <td>0</td>\n",
       "      <td>0</td>\n",
       "      <td>0</td>\n",
       "      <td>1</td>\n",
       "      <td>4955</td>\n",
       "      <td>2081</td>\n",
       "      <td>0.0</td>\n",
       "    </tr>\n",
       "    <tr>\n",
       "      <th>18</th>\n",
       "      <td>2010.0</td>\n",
       "      <td>0</td>\n",
       "      <td>1</td>\n",
       "      <td>0</td>\n",
       "      <td>0</td>\n",
       "      <td>4955</td>\n",
       "      <td>2081</td>\n",
       "      <td>0.0</td>\n",
       "    </tr>\n",
       "    <tr>\n",
       "      <th>19</th>\n",
       "      <td>2010.0</td>\n",
       "      <td>1</td>\n",
       "      <td>0</td>\n",
       "      <td>0</td>\n",
       "      <td>1</td>\n",
       "      <td>4955</td>\n",
       "      <td>2081</td>\n",
       "      <td>0.0</td>\n",
       "    </tr>\n",
       "  </tbody>\n",
       "</table>\n",
       "</div>"
      ],
      "text/plain": [
       "      year  firearm_involved  aggravated assault  \\\n",
       "0   2010.0                 0                   1   \n",
       "1   2010.0                 1                   0   \n",
       "2   2010.0                 0                   1   \n",
       "3   2010.0                 0                   1   \n",
       "4   2010.0                 0                   0   \n",
       "5   2010.0                 1                   0   \n",
       "6   2010.0                 1                   0   \n",
       "7   2010.0                 1                   1   \n",
       "8   2010.0                 1                   0   \n",
       "9   2010.0                 0                   0   \n",
       "10  2010.0                 1                   0   \n",
       "11  2010.0                 0                   0   \n",
       "12  2010.0                 0                   0   \n",
       "13  2010.0                 1                   0   \n",
       "14  2010.0                 0                   0   \n",
       "15  2010.0                 1                   1   \n",
       "16  2010.0                 0                   0   \n",
       "17  2010.0                 0                   0   \n",
       "18  2010.0                 0                   1   \n",
       "19  2010.0                 1                   0   \n",
       "\n",
       "    murder/nonnegligent manslaughter  robbery  CtFirearmCrimes  \\\n",
       "0                                  0        0             4955   \n",
       "1                                  0        1             4955   \n",
       "2                                  0        0             4955   \n",
       "3                                  0        0             4955   \n",
       "4                                  1        0             4955   \n",
       "5                                  0        1             4955   \n",
       "6                                  0        1             4955   \n",
       "7                                  0        0             4955   \n",
       "8                                  0        1             4955   \n",
       "9                                  0        1             4955   \n",
       "10                                 0        1             4955   \n",
       "11                                 0        1             4955   \n",
       "12                                 0        1             4955   \n",
       "13                                 0        1             4955   \n",
       "14                                 1        0             4955   \n",
       "15                                 0        0             4955   \n",
       "16                                 0        1             4955   \n",
       "17                                 0        1             4955   \n",
       "18                                 0        0             4955   \n",
       "19                                 0        1             4955   \n",
       "\n",
       "    SumFirearmsStolen  PossessorLaw  \n",
       "0                2081           0.0  \n",
       "1                2081           0.0  \n",
       "2                2081           0.0  \n",
       "3                2081           0.0  \n",
       "4                2081           0.0  \n",
       "5                2081           0.0  \n",
       "6                2081           0.0  \n",
       "7                2081           0.0  \n",
       "8                2081           0.0  \n",
       "9                2081           0.0  \n",
       "10               2081           0.0  \n",
       "11               2081           0.0  \n",
       "12               2081           0.0  \n",
       "13               2081           0.0  \n",
       "14               2081           0.0  \n",
       "15               2081           0.0  \n",
       "16               2081           0.0  \n",
       "17               2081           0.0  \n",
       "18               2081           0.0  \n",
       "19               2081           0.0  "
      ]
     },
     "execution_count": 94,
     "metadata": {},
     "output_type": "execute_result"
    }
   ],
   "source": [
    "va_viol_crime.head(20)"
   ]
  },
  {
   "cell_type": "code",
   "execution_count": 95,
   "metadata": {},
   "outputs": [],
   "source": [
    "X = va_viol_crime[['year', 'aggravated assault', 'murder/nonnegligent manslaughter', 'robbery', 'CtFirearmCrimes', 'SumFirearmsStolen','PossessorLaw']]"
   ]
  },
  {
   "cell_type": "code",
   "execution_count": 96,
   "metadata": {},
   "outputs": [],
   "source": [
    "y = va_viol_crime['firearm_involved']"
   ]
  },
  {
   "cell_type": "code",
   "execution_count": 97,
   "metadata": {},
   "outputs": [
    {
     "name": "stderr",
     "output_type": "stream",
     "text": [
      "c:\\Users\\brasw\\AppData\\Local\\Programs\\Python\\Python39\\lib\\site-packages\\sklearn\\utils\\validation.py:757: FutureWarning: is_sparse is deprecated and will be removed in a future version. Check `isinstance(dtype, pd.SparseDtype)` instead.\n",
      "  if not hasattr(array, \"sparse\") and array.dtypes.apply(is_sparse).any():\n",
      "c:\\Users\\brasw\\AppData\\Local\\Programs\\Python\\Python39\\lib\\site-packages\\sklearn\\utils\\validation.py:595: FutureWarning: is_sparse is deprecated and will be removed in a future version. Check `isinstance(dtype, pd.SparseDtype)` instead.\n",
      "  if is_sparse(pd_dtype):\n",
      "c:\\Users\\brasw\\AppData\\Local\\Programs\\Python\\Python39\\lib\\site-packages\\sklearn\\utils\\validation.py:604: FutureWarning: is_sparse is deprecated and will be removed in a future version. Check `isinstance(dtype, pd.SparseDtype)` instead.\n",
      "  if is_sparse(pd_dtype) or not is_extension_array_dtype(pd_dtype):\n"
     ]
    }
   ],
   "source": [
    "lr = LogisticRegression().fit(X,y)"
   ]
  },
  {
   "cell_type": "code",
   "execution_count": 98,
   "metadata": {},
   "outputs": [
    {
     "name": "stderr",
     "output_type": "stream",
     "text": [
      "c:\\Users\\brasw\\AppData\\Local\\Programs\\Python\\Python39\\lib\\site-packages\\sklearn\\utils\\validation.py:757: FutureWarning: is_sparse is deprecated and will be removed in a future version. Check `isinstance(dtype, pd.SparseDtype)` instead.\n",
      "  if not hasattr(array, \"sparse\") and array.dtypes.apply(is_sparse).any():\n",
      "c:\\Users\\brasw\\AppData\\Local\\Programs\\Python\\Python39\\lib\\site-packages\\sklearn\\utils\\validation.py:595: FutureWarning: is_sparse is deprecated and will be removed in a future version. Check `isinstance(dtype, pd.SparseDtype)` instead.\n",
      "  if is_sparse(pd_dtype):\n",
      "c:\\Users\\brasw\\AppData\\Local\\Programs\\Python\\Python39\\lib\\site-packages\\sklearn\\utils\\validation.py:604: FutureWarning: is_sparse is deprecated and will be removed in a future version. Check `isinstance(dtype, pd.SparseDtype)` instead.\n",
      "  if is_sparse(pd_dtype) or not is_extension_array_dtype(pd_dtype):\n"
     ]
    },
    {
     "data": {
      "text/plain": [
       "0.6696536610287989"
      ]
     },
     "execution_count": 98,
     "metadata": {},
     "output_type": "execute_result"
    }
   ],
   "source": [
    "lr.score(X, y)"
   ]
  },
  {
   "cell_type": "code",
   "execution_count": 99,
   "metadata": {},
   "outputs": [
    {
     "data": {
      "text/plain": [
       "array([[-4.54936705e-04, -1.08697549e+00,  9.16418092e-01,\n",
       "         1.70297258e-01,  4.24206929e-05,  2.40835322e-04,\n",
       "        -8.04130806e-02]])"
      ]
     },
     "execution_count": 99,
     "metadata": {},
     "output_type": "execute_result"
    }
   ],
   "source": [
    "lr.coef_"
   ]
  },
  {
   "cell_type": "code",
   "execution_count": 100,
   "metadata": {},
   "outputs": [],
   "source": [
    "\n",
    "feature_importance = pd.DataFrame({'Feature': X.columns, 'Importance': np.abs(lr.coef_[0])})"
   ]
  },
  {
   "cell_type": "code",
   "execution_count": 101,
   "metadata": {},
   "outputs": [],
   "source": [
    "feature_importance = feature_importance.sort_values('Importance', ascending=True)"
   ]
  },
  {
   "cell_type": "code",
   "execution_count": 102,
   "metadata": {},
   "outputs": [
    {
     "data": {
      "text/html": [
       "<div>\n",
       "<style scoped>\n",
       "    .dataframe tbody tr th:only-of-type {\n",
       "        vertical-align: middle;\n",
       "    }\n",
       "\n",
       "    .dataframe tbody tr th {\n",
       "        vertical-align: top;\n",
       "    }\n",
       "\n",
       "    .dataframe thead th {\n",
       "        text-align: right;\n",
       "    }\n",
       "</style>\n",
       "<table border=\"1\" class=\"dataframe\">\n",
       "  <thead>\n",
       "    <tr style=\"text-align: right;\">\n",
       "      <th></th>\n",
       "      <th>Feature</th>\n",
       "      <th>Importance</th>\n",
       "    </tr>\n",
       "  </thead>\n",
       "  <tbody>\n",
       "    <tr>\n",
       "      <th>4</th>\n",
       "      <td>CtFirearmCrimes</td>\n",
       "      <td>0.000042</td>\n",
       "    </tr>\n",
       "    <tr>\n",
       "      <th>5</th>\n",
       "      <td>SumFirearmsStolen</td>\n",
       "      <td>0.000241</td>\n",
       "    </tr>\n",
       "    <tr>\n",
       "      <th>0</th>\n",
       "      <td>year</td>\n",
       "      <td>0.000455</td>\n",
       "    </tr>\n",
       "    <tr>\n",
       "      <th>6</th>\n",
       "      <td>PossessorLaw</td>\n",
       "      <td>0.080413</td>\n",
       "    </tr>\n",
       "    <tr>\n",
       "      <th>3</th>\n",
       "      <td>robbery</td>\n",
       "      <td>0.170297</td>\n",
       "    </tr>\n",
       "    <tr>\n",
       "      <th>2</th>\n",
       "      <td>murder/nonnegligent manslaughter</td>\n",
       "      <td>0.916418</td>\n",
       "    </tr>\n",
       "    <tr>\n",
       "      <th>1</th>\n",
       "      <td>aggravated assault</td>\n",
       "      <td>1.086975</td>\n",
       "    </tr>\n",
       "  </tbody>\n",
       "</table>\n",
       "</div>"
      ],
      "text/plain": [
       "                            Feature  Importance\n",
       "4                   CtFirearmCrimes    0.000042\n",
       "5                 SumFirearmsStolen    0.000241\n",
       "0                              year    0.000455\n",
       "6                      PossessorLaw    0.080413\n",
       "3                           robbery    0.170297\n",
       "2  murder/nonnegligent manslaughter    0.916418\n",
       "1                aggravated assault    1.086975"
      ]
     },
     "execution_count": 102,
     "metadata": {},
     "output_type": "execute_result"
    }
   ],
   "source": [
    "feature_importance"
   ]
  },
  {
   "cell_type": "code",
   "execution_count": null,
   "metadata": {},
   "outputs": [],
   "source": []
  },
  {
   "cell_type": "markdown",
   "metadata": {},
   "source": [
    "### Read in data, combine based on year/month for firearm involved crimes and stolen firearms"
   ]
  },
  {
   "cell_type": "code",
   "execution_count": 7,
   "metadata": {},
   "outputs": [
    {
     "name": "stderr",
     "output_type": "stream",
     "text": [
      "<ipython-input-7-f7c0bf7035d8>:1: DtypeWarning: Columns (11) have mixed types. Specify dtype option on import or set low_memory=False.\n",
      "  firearm_theft = pd.read_csv(r'C:\\Users\\brasw\\Desktop\\School\\Fall 23\\stats\\stats-fp\\data\\processed\\theft_mv_firearms.csv')\n"
     ]
    }
   ],
   "source": []
  },
  {
   "cell_type": "code",
   "execution_count": 8,
   "metadata": {},
   "outputs": [],
   "source": [
    "viol_crime['incident_mon'] = pd.to_datetime(viol_crime['incident_date']).dt.month\n",
    "viol_mon_yr = viol_crime[viol_crime['firearm_involved'] == 1].groupby(['incident_mon','year'], as_index=False).agg(FirearmCrimes=('year', 'count'))"
   ]
  },
  {
   "cell_type": "code",
   "execution_count": 9,
   "metadata": {},
   "outputs": [],
   "source": [
    "firearm_theft['incident_mon'] = pd.to_datetime(firearm_theft['incident_date']).dt.month\n",
    "firearm_mon_yr = firearm_theft.groupby(['incident_mon', 'year']).agg(StolenFirearms=('NumFirearmsStolen', 'sum'))"
   ]
  },
  {
   "cell_type": "code",
   "execution_count": 10,
   "metadata": {},
   "outputs": [],
   "source": [
    "data = viol_mon_yr.join(firearm_mon_yr, on=['incident_mon', 'year'])"
   ]
  },
  {
   "cell_type": "markdown",
   "metadata": {},
   "source": [
    "### plot\n",
    "looks linear"
   ]
  },
  {
   "cell_type": "code",
   "execution_count": 11,
   "metadata": {},
   "outputs": [
    {
     "data": {
      "text/plain": [
       "<matplotlib.collections.PathCollection at 0x1aab46234f0>"
      ]
     },
     "execution_count": 11,
     "metadata": {},
     "output_type": "execute_result"
    },
    {
     "data": {
      "image/png": "[encoded data removed]",
      "text/plain": [
       "<Figure size 432x288 with 1 Axes>"
      ]
     },
     "metadata": {
      "needs_background": "light"
     },
     "output_type": "display_data"
    }
   ],
   "source": [
    "plt.scatter(data['StolenFirearms'], data['FirearmCrimes'])"
   ]
  },
  {
   "cell_type": "markdown",
   "metadata": {},
   "source": [
    "### fit linear regression model"
   ]
  },
  {
   "cell_type": "code",
   "execution_count": 12,
   "metadata": {},
   "outputs": [],
   "source": [
    "mod = sm.OLS(data['FirearmCrimes'], data['StolenFirearms'])"
   ]
  },
  {
   "cell_type": "code",
   "execution_count": 13,
   "metadata": {},
   "outputs": [],
   "source": [
    "res = mod.fit()"
   ]
  },
  {
   "cell_type": "code",
   "execution_count": 14,
   "metadata": {},
   "outputs": [
    {
     "name": "stdout",
     "output_type": "stream",
     "text": [
      "                                 OLS Regression Results                                \n",
      "=======================================================================================\n",
      "Dep. Variable:          FirearmCrimes   R-squared (uncentered):                   0.941\n",
      "Model:                            OLS   Adj. R-squared (uncentered):              0.940\n",
      "Method:                 Least Squares   F-statistic:                              2085.\n",
      "Date:                Tue, 24 Oct 2023   Prob (F-statistic):                    2.49e-82\n",
      "Time:                        19:48:11   Log-Likelihood:                         -1187.3\n",
      "No. Observations:                 132   AIC:                                      2377.\n",
      "Df Residuals:                     131   BIC:                                      2379.\n",
      "Df Model:                           1                                                  \n",
      "Covariance Type:            nonrobust                                                  \n",
      "==================================================================================\n",
      "                     coef    std err          t      P>|t|      [0.025      0.975]\n",
      "----------------------------------------------------------------------------------\n",
      "StolenFirearms     1.8026      0.039     45.666      0.000       1.725       1.881\n",
      "==============================================================================\n",
      "Omnibus:                       75.301   Durbin-Watson:                   0.632\n",
      "Prob(Omnibus):                  0.000   Jarque-Bera (JB):              359.946\n",
      "Skew:                          -2.034   Prob(JB):                     6.90e-79\n",
      "Kurtosis:                       9.992   Cond. No.                         1.00\n",
      "==============================================================================\n",
      "\n",
      "Notes:\n",
      "[1] R² is computed without centering (uncentered) since the model does not contain a constant.\n",
      "[2] Standard Errors assume that the covariance matrix of the errors is correctly specified.\n"
     ]
    }
   ],
   "source": [
    "print(res.summary())"
   ]
  },
  {
   "cell_type": "markdown",
   "metadata": {},
   "source": [
    "yea this is most likely colinear, need to run VIF test on it and figure out alternative methods. i suspect that doing rates on firearm: non-firearm crime would work"
   ]
  },
  {
   "cell_type": "code",
   "execution_count": 15,
   "metadata": {},
   "outputs": [
    {
     "ename": "NameError",
     "evalue": "name 'plot_fit' is not defined",
     "output_type": "error",
     "traceback": [
      "\u001b[1;31m---------------------------------------------------------------------------\u001b[0m",
      "\u001b[1;31mNameError\u001b[0m                                 Traceback (most recent call last)",
      "\u001b[1;32m<ipython-input-15-da3f7f1882ff>\u001b[0m in \u001b[0;36m<module>\u001b[1;34m\u001b[0m\n\u001b[0;32m      1\u001b[0m \u001b[0mfig\u001b[0m\u001b[1;33m,\u001b[0m \u001b[0max\u001b[0m \u001b[1;33m=\u001b[0m \u001b[0mplt\u001b[0m\u001b[1;33m.\u001b[0m\u001b[0msubplots\u001b[0m\u001b[1;33m(\u001b[0m\u001b[1;33m)\u001b[0m\u001b[1;33m\u001b[0m\u001b[1;33m\u001b[0m\u001b[0m\n\u001b[1;32m----> 2\u001b[1;33m \u001b[0mfig\u001b[0m \u001b[1;33m=\u001b[0m \u001b[0mplot_fit\u001b[0m\u001b[1;33m(\u001b[0m\u001b[0mres\u001b[0m\u001b[1;33m,\u001b[0m \u001b[1;36m0\u001b[0m\u001b[1;33m,\u001b[0m \u001b[0max\u001b[0m\u001b[1;33m=\u001b[0m\u001b[0max\u001b[0m\u001b[1;33m)\u001b[0m\u001b[1;33m\u001b[0m\u001b[1;33m\u001b[0m\u001b[0m\n\u001b[0m",
      "\u001b[1;31mNameError\u001b[0m: name 'plot_fit' is not defined"
     ]
    },
    {
     "data": {
      "image/png": "[encoded data removed]",
      "text/plain": [
       "<Figure size 432x288 with 1 Axes>"
      ]
     },
     "metadata": {
      "needs_background": "light"
     },
     "output_type": "display_data"
    }
   ],
   "source": [
    "fig, ax = plt.subplots()\n",
    "fig = plot_fit(res, 0, ax=ax)"
   ]
  },
  {
   "cell_type": "code",
   "execution_count": null,
   "metadata": {},
   "outputs": [
    {
     "data": {
      "text/plain": [
       "StolenFirearms    1.80262\n",
       "dtype: float64"
      ]
     },
     "execution_count": 54,
     "metadata": {},
     "output_type": "execute_result"
    }
   ],
   "source": [
    "res.params"
   ]
  },
  {
   "cell_type": "markdown",
   "metadata": {},
   "source": [
    "for every 1 stolen firearm the firearm crimes are going up 1.8"
   ]
  },
  {
   "cell_type": "markdown",
   "metadata": {},
   "source": [
    "### Firearm laws - Chose Oregon and extra time for background checks - just cause the year worked out"
   ]
  },
  {
   "cell_type": "code",
   "execution_count": null,
   "metadata": {},
   "outputs": [
    {
     "name": "stderr",
     "output_type": "stream",
     "text": [
      "<ipython-input-56-ee31ea155fe6>:1: DtypeWarning:\n",
      "\n",
      "Columns (11,16,21,22,23) have mixed types. Specify dtype option on import or set low_memory=False.\n",
      "\n"
     ]
    }
   ],
   "source": [
    "viol_crime = pd.read_csv('..\\data\\processed\\offenses_firearm_indicator.csv')\n",
    "laws = pd.read_csv(r'..\\data\\raw\\firearmlaws.csv')"
   ]
  },
  {
   "cell_type": "code",
   "execution_count": null,
   "metadata": {},
   "outputs": [
    {
     "data": {
      "text/html": [
       "<div>\n",
       "<style scoped>\n",
       "    .dataframe tbody tr th:only-of-type {\n",
       "        vertical-align: middle;\n",
       "    }\n",
       "\n",
       "    .dataframe tbody tr th {\n",
       "        vertical-align: top;\n",
       "    }\n",
       "\n",
       "    .dataframe thead th {\n",
       "        text-align: right;\n",
       "    }\n",
       "</style>\n",
       "<table border=\"1\" class=\"dataframe\">\n",
       "  <thead>\n",
       "    <tr style=\"text-align: right;\">\n",
       "      <th></th>\n",
       "      <th>Law ID</th>\n",
       "      <th>State</th>\n",
       "      <th>State Postal Abbreviation</th>\n",
       "      <th>FIPS Code</th>\n",
       "      <th>Law Class (num)</th>\n",
       "      <th>Law Class</th>\n",
       "      <th>Law Class Subtype</th>\n",
       "      <th>Handguns or Long Guns</th>\n",
       "      <th>Effect</th>\n",
       "      <th>Type of Change</th>\n",
       "      <th>...</th>\n",
       "      <th>Supersession Date</th>\n",
       "      <th>Supersession Date Year</th>\n",
       "      <th>Supersession Date Month</th>\n",
       "      <th>Supersession Date Day</th>\n",
       "      <th>Controlling Law at Beginning of Period (1979)</th>\n",
       "      <th>Age for Minimum Age Laws</th>\n",
       "      <th>Length of Waiting Period (days, handguns)</th>\n",
       "      <th>Additional Context and Notes</th>\n",
       "      <th>Caveats and Ambiguities</th>\n",
       "      <th>Exception Code</th>\n",
       "    </tr>\n",
       "  </thead>\n",
       "  <tbody>\n",
       "    <tr>\n",
       "      <th>219</th>\n",
       "      <td>CA1034</td>\n",
       "      <td>California</td>\n",
       "      <td>CA</td>\n",
       "      <td>6</td>\n",
       "      <td>1</td>\n",
       "      <td>background checks</td>\n",
       "      <td>extra time</td>\n",
       "      <td>handgun</td>\n",
       "      <td>Restrictive</td>\n",
       "      <td>Implement</td>\n",
       "      <td>...</td>\n",
       "      <td>NaN</td>\n",
       "      <td>NaN</td>\n",
       "      <td>NaN</td>\n",
       "      <td>NaN</td>\n",
       "      <td>NaN</td>\n",
       "      <td>NaN</td>\n",
       "      <td>NaN</td>\n",
       "      <td>Gives U.S. Department of Justice up to 30 days...</td>\n",
       "      <td>NaN</td>\n",
       "      <td>NaN</td>\n",
       "    </tr>\n",
       "    <tr>\n",
       "      <th>259</th>\n",
       "      <td>CA1077</td>\n",
       "      <td>California</td>\n",
       "      <td>CA</td>\n",
       "      <td>6</td>\n",
       "      <td>1</td>\n",
       "      <td>background checks</td>\n",
       "      <td>extra time</td>\n",
       "      <td>long gun</td>\n",
       "      <td>Restrictive</td>\n",
       "      <td>Implement</td>\n",
       "      <td>...</td>\n",
       "      <td>NaN</td>\n",
       "      <td>NaN</td>\n",
       "      <td>NaN</td>\n",
       "      <td>NaN</td>\n",
       "      <td>NaN</td>\n",
       "      <td>NaN</td>\n",
       "      <td>NaN</td>\n",
       "      <td>Gives U.S. Department of Justice up to 30 days...</td>\n",
       "      <td>NaN</td>\n",
       "      <td>NaN</td>\n",
       "    </tr>\n",
       "  </tbody>\n",
       "</table>\n",
       "<p>2 rows × 27 columns</p>\n",
       "</div>"
      ],
      "text/plain": [
       "     Law ID       State State Postal Abbreviation  FIPS Code  Law Class (num)  \\\n",
       "219  CA1034  California                        CA          6                1   \n",
       "259  CA1077  California                        CA          6                1   \n",
       "\n",
       "             Law Class Law Class Subtype Handguns or Long Guns       Effect  \\\n",
       "219  background checks        extra time               handgun  Restrictive   \n",
       "259  background checks        extra time              long gun  Restrictive   \n",
       "\n",
       "    Type of Change  ... Supersession Date Supersession Date Year  \\\n",
       "219      Implement  ...               NaN                    NaN   \n",
       "259      Implement  ...               NaN                    NaN   \n",
       "\n",
       "     Supersession Date Month  Supersession Date Day  \\\n",
       "219                      NaN                    NaN   \n",
       "259                      NaN                    NaN   \n",
       "\n",
       "     Controlling Law at Beginning of Period (1979) Age for Minimum Age Laws  \\\n",
       "219                                            NaN                      NaN   \n",
       "259                                            NaN                      NaN   \n",
       "\n",
       "    Length of Waiting Period (days, handguns)  \\\n",
       "219                                       NaN   \n",
       "259                                       NaN   \n",
       "\n",
       "                          Additional Context and Notes  \\\n",
       "219  Gives U.S. Department of Justice up to 30 days...   \n",
       "259  Gives U.S. Department of Justice up to 30 days...   \n",
       "\n",
       "     Caveats and Ambiguities  Exception Code  \n",
       "219                      NaN             NaN  \n",
       "259                      NaN             NaN  \n",
       "\n",
       "[2 rows x 27 columns]"
      ]
     },
     "execution_count": 59,
     "metadata": {},
     "output_type": "execute_result"
    }
   ],
   "source": [
    "laws[(laws['State'].str.contains('Ca')) & (laws['Law Class'] == 'background checks') & (laws['Effective Date Year'] == 2014)]"
   ]
  },
  {
   "cell_type": "markdown",
   "metadata": {},
   "source": [
    "# Restrict violent crime to californoregonia"
   ]
  },
  {
   "cell_type": "code",
   "execution_count": null,
   "metadata": {},
   "outputs": [
    {
     "data": {
      "text/plain": [
       "array(['AL', 'AR', 'AZ', 'CO', 'CT', 'DC', 'DE', 'IA', 'ID', 'IL', 'KS',\n",
       "       'KY', 'LA', 'MA', 'ME', 'MI', 'MO', 'MS', 'MT', 'NE', 'ND', 'NH',\n",
       "       'OH', 'OK', 'OR', 'RI', 'SC', 'SD', 'TN', 'TX', 'UT', 'VA', 'VT',\n",
       "       'WA', 'WI', 'WV', 'PA', 'IN', 'MD', 'MN', 'GA', 'HI', 'NM', 'NC',\n",
       "       'NV', 'WY', 'NY'], dtype=object)"
      ]
     },
     "execution_count": 64,
     "metadata": {},
     "output_type": "execute_result"
    }
   ],
   "source": [
    "pd.unique(viol_crime['state_abb'])"
   ]
  },
  {
   "cell_type": "code",
   "execution_count": null,
   "metadata": {},
   "outputs": [],
   "source": [
    "viol_crime = viol_crime[viol_crime['state_abb']=='OR']"
   ]
  },
  {
   "cell_type": "code",
   "execution_count": null,
   "metadata": {},
   "outputs": [
    {
     "name": "stderr",
     "output_type": "stream",
     "text": [
      "<ipython-input-68-c765933d833e>:1: SettingWithCopyWarning:\n",
      "\n",
      "\n",
      "A value is trying to be set on a copy of a slice from a DataFrame\n",
      "\n",
      "See the caveats in the documentation: https://pandas.pydata.org/pandas-docs/stable/user_guide/indexing.html#returning-a-view-versus-a-copy\n",
      "\n"
     ]
    }
   ],
   "source": [
    "viol_crime.drop(columns=['Unnamed: 0'], inplace=True)"
   ]
  },
  {
   "cell_type": "code",
   "execution_count": 17,
   "metadata": {},
   "outputs": [],
   "source": [
    "viol_crime['month'] = pd.to_datetime(viol_crime['incident_date']).dt.month\n",
    "viol = viol_crime.groupby(['year', 'month'], as_index=False).agg(FirearmCrimes = ('firearm_involved', 'sum'))"
   ]
  },
  {
   "cell_type": "code",
   "execution_count": 18,
   "metadata": {},
   "outputs": [],
   "source": [
    "viol = viol.merge(viol_crime.groupby(['year', 'month'], as_index=False).agg(TotalCount = ('year', 'count')), on=['year', 'month'])"
   ]
  },
  {
   "cell_type": "code",
   "execution_count": 19,
   "metadata": {},
   "outputs": [],
   "source": [
    "viol['FirearmPercent'] = viol['FirearmCrimes'] / viol['TotalCount']"
   ]
  },
  {
   "cell_type": "markdown",
   "metadata": {},
   "source": [
    "## Create a boolean for if the law exists or not. Treat as a categorical value"
   ]
  },
  {
   "cell_type": "code",
   "execution_count": 20,
   "metadata": {},
   "outputs": [],
   "source": [
    "viol.loc[viol['year'] >= 2014, 'BgCheck'] = 1"
   ]
  },
  {
   "cell_type": "code",
   "execution_count": 21,
   "metadata": {},
   "outputs": [],
   "source": [
    "viol['BgCheck'].fillna(0, inplace=True)"
   ]
  },
  {
   "cell_type": "markdown",
   "metadata": {},
   "source": [
    "## Okay well this isn't actually usable - we'll have to restrict departments or something. they've got a clear ramp up in reporting (i.e., slowly adding more districts or something)"
   ]
  },
  {
   "cell_type": "markdown",
   "metadata": {},
   "source": [
    "## However for the purposes of this, let's pretend it's all right"
   ]
  },
  {
   "cell_type": "code",
   "execution_count": 22,
   "metadata": {},
   "outputs": [
    {
     "data": {
      "text/html": [
       "<div>\n",
       "<style scoped>\n",
       "    .dataframe tbody tr th:only-of-type {\n",
       "        vertical-align: middle;\n",
       "    }\n",
       "\n",
       "    .dataframe tbody tr th {\n",
       "        vertical-align: top;\n",
       "    }\n",
       "\n",
       "    .dataframe thead th {\n",
       "        text-align: right;\n",
       "    }\n",
       "</style>\n",
       "<table border=\"1\" class=\"dataframe\">\n",
       "  <thead>\n",
       "    <tr style=\"text-align: right;\">\n",
       "      <th></th>\n",
       "      <th>year</th>\n",
       "      <th>month</th>\n",
       "      <th>FirearmCrimes</th>\n",
       "      <th>TotalCount</th>\n",
       "      <th>FirearmPercent</th>\n",
       "      <th>BgCheck</th>\n",
       "    </tr>\n",
       "  </thead>\n",
       "  <tbody>\n",
       "    <tr>\n",
       "      <th>0</th>\n",
       "      <td>2010.0</td>\n",
       "      <td>1</td>\n",
       "      <td>5633</td>\n",
       "      <td>19098</td>\n",
       "      <td>0.294952</td>\n",
       "      <td>0.0</td>\n",
       "    </tr>\n",
       "    <tr>\n",
       "      <th>1</th>\n",
       "      <td>2010.0</td>\n",
       "      <td>2</td>\n",
       "      <td>4034</td>\n",
       "      <td>15422</td>\n",
       "      <td>0.261574</td>\n",
       "      <td>0.0</td>\n",
       "    </tr>\n",
       "    <tr>\n",
       "      <th>2</th>\n",
       "      <td>2010.0</td>\n",
       "      <td>3</td>\n",
       "      <td>5477</td>\n",
       "      <td>20105</td>\n",
       "      <td>0.272420</td>\n",
       "      <td>0.0</td>\n",
       "    </tr>\n",
       "    <tr>\n",
       "      <th>3</th>\n",
       "      <td>2010.0</td>\n",
       "      <td>4</td>\n",
       "      <td>5955</td>\n",
       "      <td>21288</td>\n",
       "      <td>0.279735</td>\n",
       "      <td>0.0</td>\n",
       "    </tr>\n",
       "    <tr>\n",
       "      <th>4</th>\n",
       "      <td>2010.0</td>\n",
       "      <td>5</td>\n",
       "      <td>6337</td>\n",
       "      <td>22808</td>\n",
       "      <td>0.277841</td>\n",
       "      <td>0.0</td>\n",
       "    </tr>\n",
       "    <tr>\n",
       "      <th>...</th>\n",
       "      <td>...</td>\n",
       "      <td>...</td>\n",
       "      <td>...</td>\n",
       "      <td>...</td>\n",
       "      <td>...</td>\n",
       "      <td>...</td>\n",
       "    </tr>\n",
       "    <tr>\n",
       "      <th>127</th>\n",
       "      <td>2020.0</td>\n",
       "      <td>8</td>\n",
       "      <td>16912</td>\n",
       "      <td>44845</td>\n",
       "      <td>0.377121</td>\n",
       "      <td>1.0</td>\n",
       "    </tr>\n",
       "    <tr>\n",
       "      <th>128</th>\n",
       "      <td>2020.0</td>\n",
       "      <td>9</td>\n",
       "      <td>15811</td>\n",
       "      <td>41808</td>\n",
       "      <td>0.378181</td>\n",
       "      <td>1.0</td>\n",
       "    </tr>\n",
       "    <tr>\n",
       "      <th>129</th>\n",
       "      <td>2020.0</td>\n",
       "      <td>10</td>\n",
       "      <td>17229</td>\n",
       "      <td>43653</td>\n",
       "      <td>0.394681</td>\n",
       "      <td>1.0</td>\n",
       "    </tr>\n",
       "    <tr>\n",
       "      <th>130</th>\n",
       "      <td>2020.0</td>\n",
       "      <td>11</td>\n",
       "      <td>16974</td>\n",
       "      <td>41266</td>\n",
       "      <td>0.411331</td>\n",
       "      <td>1.0</td>\n",
       "    </tr>\n",
       "    <tr>\n",
       "      <th>131</th>\n",
       "      <td>2020.0</td>\n",
       "      <td>12</td>\n",
       "      <td>15840</td>\n",
       "      <td>39176</td>\n",
       "      <td>0.404329</td>\n",
       "      <td>1.0</td>\n",
       "    </tr>\n",
       "  </tbody>\n",
       "</table>\n",
       "<p>132 rows × 6 columns</p>\n",
       "</div>"
      ],
      "text/plain": [
       "       year  month  FirearmCrimes  TotalCount  FirearmPercent  BgCheck\n",
       "0    2010.0      1           5633       19098        0.294952      0.0\n",
       "1    2010.0      2           4034       15422        0.261574      0.0\n",
       "2    2010.0      3           5477       20105        0.272420      0.0\n",
       "3    2010.0      4           5955       21288        0.279735      0.0\n",
       "4    2010.0      5           6337       22808        0.277841      0.0\n",
       "..      ...    ...            ...         ...             ...      ...\n",
       "127  2020.0      8          16912       44845        0.377121      1.0\n",
       "128  2020.0      9          15811       41808        0.378181      1.0\n",
       "129  2020.0     10          17229       43653        0.394681      1.0\n",
       "130  2020.0     11          16974       41266        0.411331      1.0\n",
       "131  2020.0     12          15840       39176        0.404329      1.0\n",
       "\n",
       "[132 rows x 6 columns]"
      ]
     },
     "execution_count": 22,
     "metadata": {},
     "output_type": "execute_result"
    }
   ],
   "source": [
    "viol"
   ]
  },
  {
   "cell_type": "markdown",
   "metadata": {},
   "source": [
    "### This looks like our Midterm now. We have a group of one law type (BgCheck or no BGCheck), percentages like the midterm? Is this not ANOVA? We can do t.test on this, we can do aov on this"
   ]
  },
  {
   "cell_type": "code",
   "execution_count": 23,
   "metadata": {},
   "outputs": [],
   "source": [
    "from statsmodels.stats.anova import AnovaRM"
   ]
  },
  {
   "cell_type": "code",
   "execution_count": 25,
   "metadata": {},
   "outputs": [
    {
     "data": {
      "text/html": [
       "<div>\n",
       "<style scoped>\n",
       "    .dataframe tbody tr th:only-of-type {\n",
       "        vertical-align: middle;\n",
       "    }\n",
       "\n",
       "    .dataframe tbody tr th {\n",
       "        vertical-align: top;\n",
       "    }\n",
       "\n",
       "    .dataframe thead th {\n",
       "        text-align: right;\n",
       "    }\n",
       "</style>\n",
       "<table border=\"1\" class=\"dataframe\">\n",
       "  <thead>\n",
       "    <tr style=\"text-align: right;\">\n",
       "      <th></th>\n",
       "      <th>year</th>\n",
       "      <th>month</th>\n",
       "      <th>FirearmCrimes</th>\n",
       "      <th>TotalCount</th>\n",
       "      <th>FirearmPercent</th>\n",
       "      <th>BgCheck</th>\n",
       "    </tr>\n",
       "  </thead>\n",
       "  <tbody>\n",
       "    <tr>\n",
       "      <th>0</th>\n",
       "      <td>2010.0</td>\n",
       "      <td>1</td>\n",
       "      <td>5633</td>\n",
       "      <td>19098</td>\n",
       "      <td>0.294952</td>\n",
       "      <td>0.0</td>\n",
       "    </tr>\n",
       "    <tr>\n",
       "      <th>1</th>\n",
       "      <td>2010.0</td>\n",
       "      <td>2</td>\n",
       "      <td>4034</td>\n",
       "      <td>15422</td>\n",
       "      <td>0.261574</td>\n",
       "      <td>0.0</td>\n",
       "    </tr>\n",
       "    <tr>\n",
       "      <th>2</th>\n",
       "      <td>2010.0</td>\n",
       "      <td>3</td>\n",
       "      <td>5477</td>\n",
       "      <td>20105</td>\n",
       "      <td>0.272420</td>\n",
       "      <td>0.0</td>\n",
       "    </tr>\n",
       "    <tr>\n",
       "      <th>3</th>\n",
       "      <td>2010.0</td>\n",
       "      <td>4</td>\n",
       "      <td>5955</td>\n",
       "      <td>21288</td>\n",
       "      <td>0.279735</td>\n",
       "      <td>0.0</td>\n",
       "    </tr>\n",
       "    <tr>\n",
       "      <th>4</th>\n",
       "      <td>2010.0</td>\n",
       "      <td>5</td>\n",
       "      <td>6337</td>\n",
       "      <td>22808</td>\n",
       "      <td>0.277841</td>\n",
       "      <td>0.0</td>\n",
       "    </tr>\n",
       "    <tr>\n",
       "      <th>...</th>\n",
       "      <td>...</td>\n",
       "      <td>...</td>\n",
       "      <td>...</td>\n",
       "      <td>...</td>\n",
       "      <td>...</td>\n",
       "      <td>...</td>\n",
       "    </tr>\n",
       "    <tr>\n",
       "      <th>127</th>\n",
       "      <td>2020.0</td>\n",
       "      <td>8</td>\n",
       "      <td>16912</td>\n",
       "      <td>44845</td>\n",
       "      <td>0.377121</td>\n",
       "      <td>1.0</td>\n",
       "    </tr>\n",
       "    <tr>\n",
       "      <th>128</th>\n",
       "      <td>2020.0</td>\n",
       "      <td>9</td>\n",
       "      <td>15811</td>\n",
       "      <td>41808</td>\n",
       "      <td>0.378181</td>\n",
       "      <td>1.0</td>\n",
       "    </tr>\n",
       "    <tr>\n",
       "      <th>129</th>\n",
       "      <td>2020.0</td>\n",
       "      <td>10</td>\n",
       "      <td>17229</td>\n",
       "      <td>43653</td>\n",
       "      <td>0.394681</td>\n",
       "      <td>1.0</td>\n",
       "    </tr>\n",
       "    <tr>\n",
       "      <th>130</th>\n",
       "      <td>2020.0</td>\n",
       "      <td>11</td>\n",
       "      <td>16974</td>\n",
       "      <td>41266</td>\n",
       "      <td>0.411331</td>\n",
       "      <td>1.0</td>\n",
       "    </tr>\n",
       "    <tr>\n",
       "      <th>131</th>\n",
       "      <td>2020.0</td>\n",
       "      <td>12</td>\n",
       "      <td>15840</td>\n",
       "      <td>39176</td>\n",
       "      <td>0.404329</td>\n",
       "      <td>1.0</td>\n",
       "    </tr>\n",
       "  </tbody>\n",
       "</table>\n",
       "<p>132 rows × 6 columns</p>\n",
       "</div>"
      ],
      "text/plain": [
       "       year  month  FirearmCrimes  TotalCount  FirearmPercent  BgCheck\n",
       "0    2010.0      1           5633       19098        0.294952      0.0\n",
       "1    2010.0      2           4034       15422        0.261574      0.0\n",
       "2    2010.0      3           5477       20105        0.272420      0.0\n",
       "3    2010.0      4           5955       21288        0.279735      0.0\n",
       "4    2010.0      5           6337       22808        0.277841      0.0\n",
       "..      ...    ...            ...         ...             ...      ...\n",
       "127  2020.0      8          16912       44845        0.377121      1.0\n",
       "128  2020.0      9          15811       41808        0.378181      1.0\n",
       "129  2020.0     10          17229       43653        0.394681      1.0\n",
       "130  2020.0     11          16974       41266        0.411331      1.0\n",
       "131  2020.0     12          15840       39176        0.404329      1.0\n",
       "\n",
       "[132 rows x 6 columns]"
      ]
     },
     "execution_count": 25,
     "metadata": {},
     "output_type": "execute_result"
    }
   ],
   "source": [
    "viol"
   ]
  },
  {
   "cell_type": "code",
   "execution_count": 26,
   "metadata": {},
   "outputs": [
    {
     "ename": "KeyError",
     "evalue": "Index(['Year', 'Month'], dtype='object')",
     "output_type": "error",
     "traceback": [
      "\u001b[1;31m---------------------------------------------------------------------------\u001b[0m",
      "\u001b[1;31mKeyError\u001b[0m                                  Traceback (most recent call last)",
      "\u001b[1;32m<ipython-input-26-7bc97594dbf5>\u001b[0m in \u001b[0;36m<module>\u001b[1;34m\u001b[0m\n\u001b[1;32m----> 1\u001b[1;33m \u001b[0mprint\u001b[0m\u001b[1;33m(\u001b[0m\u001b[0mAnovaRM\u001b[0m\u001b[1;33m(\u001b[0m\u001b[0mdata\u001b[0m\u001b[1;33m=\u001b[0m\u001b[0mviol\u001b[0m\u001b[1;33m,\u001b[0m \u001b[0mdepvar\u001b[0m\u001b[1;33m=\u001b[0m\u001b[1;34m'FirearmPercent'\u001b[0m\u001b[1;33m,\u001b[0m \u001b[0msubject\u001b[0m\u001b[1;33m=\u001b[0m\u001b[1;34m'BgCheck'\u001b[0m\u001b[1;33m,\u001b[0m \u001b[0mwithin\u001b[0m\u001b[1;33m=\u001b[0m\u001b[1;33m[\u001b[0m\u001b[1;34m'Year'\u001b[0m\u001b[1;33m,\u001b[0m \u001b[1;34m'Month'\u001b[0m\u001b[1;33m]\u001b[0m\u001b[1;33m)\u001b[0m\u001b[1;33m)\u001b[0m\u001b[1;33m\u001b[0m\u001b[1;33m\u001b[0m\u001b[0m\n\u001b[0m",
      "\u001b[1;32mc:\\Users\\brasw\\AppData\\Local\\Programs\\Python\\Python39\\lib\\site-packages\\statsmodels\\stats\\anova.py\u001b[0m in \u001b[0;36m__init__\u001b[1;34m(self, data, depvar, subject, within, between, aggregate_func)\u001b[0m\n\u001b[0;32m    494\u001b[0m             \u001b[0mself\u001b[0m\u001b[1;33m.\u001b[0m\u001b[0maggregate_func\u001b[0m \u001b[1;33m=\u001b[0m \u001b[0maggregate_func\u001b[0m\u001b[1;33m\u001b[0m\u001b[1;33m\u001b[0m\u001b[0m\n\u001b[0;32m    495\u001b[0m \u001b[1;33m\u001b[0m\u001b[0m\n\u001b[1;32m--> 496\u001b[1;33m         \u001b[1;32mif\u001b[0m \u001b[1;32mnot\u001b[0m \u001b[0mdata\u001b[0m\u001b[1;33m.\u001b[0m\u001b[0mequals\u001b[0m\u001b[1;33m(\u001b[0m\u001b[0mdata\u001b[0m\u001b[1;33m.\u001b[0m\u001b[0mdrop_duplicates\u001b[0m\u001b[1;33m(\u001b[0m\u001b[0msubset\u001b[0m\u001b[1;33m=\u001b[0m\u001b[1;33m[\u001b[0m\u001b[0msubject\u001b[0m\u001b[1;33m]\u001b[0m \u001b[1;33m+\u001b[0m \u001b[0mwithin\u001b[0m\u001b[1;33m)\u001b[0m\u001b[1;33m)\u001b[0m\u001b[1;33m:\u001b[0m\u001b[1;33m\u001b[0m\u001b[1;33m\u001b[0m\u001b[0m\n\u001b[0m\u001b[0;32m    497\u001b[0m             \u001b[1;32mif\u001b[0m \u001b[0mself\u001b[0m\u001b[1;33m.\u001b[0m\u001b[0maggregate_func\u001b[0m \u001b[1;32mis\u001b[0m \u001b[1;32mnot\u001b[0m \u001b[1;32mNone\u001b[0m\u001b[1;33m:\u001b[0m\u001b[1;33m\u001b[0m\u001b[1;33m\u001b[0m\u001b[0m\n\u001b[0;32m    498\u001b[0m                 \u001b[0mself\u001b[0m\u001b[1;33m.\u001b[0m\u001b[0m_aggregate\u001b[0m\u001b[1;33m(\u001b[0m\u001b[1;33m)\u001b[0m\u001b[1;33m\u001b[0m\u001b[1;33m\u001b[0m\u001b[0m\n",
      "\u001b[1;32mc:\\Users\\brasw\\AppData\\Local\\Programs\\Python\\Python39\\lib\\site-packages\\pandas\\core\\frame.py\u001b[0m in \u001b[0;36mdrop_duplicates\u001b[1;34m(self, subset, keep, inplace, ignore_index)\u001b[0m\n\u001b[0;32m   6567\u001b[0m         \u001b[0mignore_index\u001b[0m \u001b[1;33m=\u001b[0m \u001b[0mvalidate_bool_kwarg\u001b[0m\u001b[1;33m(\u001b[0m\u001b[0mignore_index\u001b[0m\u001b[1;33m,\u001b[0m \u001b[1;34m\"ignore_index\"\u001b[0m\u001b[1;33m)\u001b[0m\u001b[1;33m\u001b[0m\u001b[1;33m\u001b[0m\u001b[0m\n\u001b[0;32m   6568\u001b[0m \u001b[1;33m\u001b[0m\u001b[0m\n\u001b[1;32m-> 6569\u001b[1;33m         \u001b[0mresult\u001b[0m \u001b[1;33m=\u001b[0m \u001b[0mself\u001b[0m\u001b[1;33m[\u001b[0m\u001b[1;33m-\u001b[0m\u001b[0mself\u001b[0m\u001b[1;33m.\u001b[0m\u001b[0mduplicated\u001b[0m\u001b[1;33m(\u001b[0m\u001b[0msubset\u001b[0m\u001b[1;33m,\u001b[0m \u001b[0mkeep\u001b[0m\u001b[1;33m=\u001b[0m\u001b[0mkeep\u001b[0m\u001b[1;33m)\u001b[0m\u001b[1;33m]\u001b[0m\u001b[1;33m\u001b[0m\u001b[1;33m\u001b[0m\u001b[0m\n\u001b[0m\u001b[0;32m   6570\u001b[0m         \u001b[1;32mif\u001b[0m \u001b[0mignore_index\u001b[0m\u001b[1;33m:\u001b[0m\u001b[1;33m\u001b[0m\u001b[1;33m\u001b[0m\u001b[0m\n\u001b[0;32m   6571\u001b[0m             \u001b[0mresult\u001b[0m\u001b[1;33m.\u001b[0m\u001b[0mindex\u001b[0m \u001b[1;33m=\u001b[0m \u001b[0mdefault_index\u001b[0m\u001b[1;33m(\u001b[0m\u001b[0mlen\u001b[0m\u001b[1;33m(\u001b[0m\u001b[0mresult\u001b[0m\u001b[1;33m)\u001b[0m\u001b[1;33m)\u001b[0m\u001b[1;33m\u001b[0m\u001b[1;33m\u001b[0m\u001b[0m\n",
      "\u001b[1;32mc:\\Users\\brasw\\AppData\\Local\\Programs\\Python\\Python39\\lib\\site-packages\\pandas\\core\\frame.py\u001b[0m in \u001b[0;36mduplicated\u001b[1;34m(self, subset, keep)\u001b[0m\n\u001b[0;32m   6699\u001b[0m         \u001b[0mdiff\u001b[0m \u001b[1;33m=\u001b[0m \u001b[0mset\u001b[0m\u001b[1;33m(\u001b[0m\u001b[0msubset\u001b[0m\u001b[1;33m)\u001b[0m \u001b[1;33m-\u001b[0m \u001b[0mset\u001b[0m\u001b[1;33m(\u001b[0m\u001b[0mself\u001b[0m\u001b[1;33m.\u001b[0m\u001b[0mcolumns\u001b[0m\u001b[1;33m)\u001b[0m\u001b[1;33m\u001b[0m\u001b[1;33m\u001b[0m\u001b[0m\n\u001b[0;32m   6700\u001b[0m         \u001b[1;32mif\u001b[0m \u001b[0mdiff\u001b[0m\u001b[1;33m:\u001b[0m\u001b[1;33m\u001b[0m\u001b[1;33m\u001b[0m\u001b[0m\n\u001b[1;32m-> 6701\u001b[1;33m             \u001b[1;32mraise\u001b[0m \u001b[0mKeyError\u001b[0m\u001b[1;33m(\u001b[0m\u001b[0mIndex\u001b[0m\u001b[1;33m(\u001b[0m\u001b[0mdiff\u001b[0m\u001b[1;33m)\u001b[0m\u001b[1;33m)\u001b[0m\u001b[1;33m\u001b[0m\u001b[1;33m\u001b[0m\u001b[0m\n\u001b[0m\u001b[0;32m   6702\u001b[0m \u001b[1;33m\u001b[0m\u001b[0m\n\u001b[0;32m   6703\u001b[0m         \u001b[1;32mif\u001b[0m \u001b[0mlen\u001b[0m\u001b[1;33m(\u001b[0m\u001b[0msubset\u001b[0m\u001b[1;33m)\u001b[0m \u001b[1;33m==\u001b[0m \u001b[1;36m1\u001b[0m \u001b[1;32mand\u001b[0m \u001b[0mself\u001b[0m\u001b[1;33m.\u001b[0m\u001b[0mcolumns\u001b[0m\u001b[1;33m.\u001b[0m\u001b[0mis_unique\u001b[0m\u001b[1;33m:\u001b[0m\u001b[1;33m\u001b[0m\u001b[1;33m\u001b[0m\u001b[0m\n",
      "\u001b[1;31mKeyError\u001b[0m: Index(['Year', 'Month'], dtype='object')"
     ]
    }
   ],
   "source": [
    "print(AnovaRM(data=viol, depvar='FirearmPercent', subject='BgCheck', within=['Year', 'Month']))"
   ]
  },
  {
   "cell_type": "code",
   "execution_count": null,
   "metadata": {},
   "outputs": [
    {
     "name": "stdout",
     "output_type": "stream",
     "text": [
      "Help on class AnovaRM in module statsmodels.stats.anova:\n",
      "\n",
      "class AnovaRM(builtins.object)\n",
      " |  AnovaRM(data, depvar, subject, within=None, between=None, aggregate_func=None)\n",
      " |  \n",
      " |  Repeated measures Anova using least squares regression\n",
      " |  \n",
      " |  The full model regression residual sum of squares is\n",
      " |  used to compare with the reduced model for calculating the\n",
      " |  within-subject effect sum of squares [1].\n",
      " |  \n",
      " |  Currently, only fully balanced within-subject designs are supported.\n",
      " |  Calculation of between-subject effects and corrections for violation of\n",
      " |  sphericity are not yet implemented.\n",
      " |  \n",
      " |  Parameters\n",
      " |  ----------\n",
      " |  data : DataFrame\n",
      " |  depvar : str\n",
      " |      The dependent variable in `data`\n",
      " |  subject : str\n",
      " |      Specify the subject id\n",
      " |  within : list[str]\n",
      " |      The within-subject factors\n",
      " |  between : list[str]\n",
      " |      The between-subject factors, this is not yet implemented\n",
      " |  aggregate_func : {None, 'mean', callable}\n",
      " |      If the data set contains more than a single observation per subject\n",
      " |      and cell of the specified model, this function will be used to\n",
      " |      aggregate the data before running the Anova. `None` (the default) will\n",
      " |      not perform any aggregation; 'mean' is s shortcut to `numpy.mean`.\n",
      " |      An exception will be raised if aggregation is required, but no\n",
      " |      aggregation function was specified.\n",
      " |  \n",
      " |  Returns\n",
      " |  -------\n",
      " |  results : AnovaResults instance\n",
      " |  \n",
      " |  Raises\n",
      " |  ------\n",
      " |  ValueError\n",
      " |      If the data need to be aggregated, but `aggregate_func` was not\n",
      " |      specified.\n",
      " |  \n",
      " |  Notes\n",
      " |  -----\n",
      " |  This implementation currently only supports fully balanced designs. If the\n",
      " |  data contain more than one observation per subject and cell of the design,\n",
      " |  these observations need to be aggregated into a single observation\n",
      " |  before the Anova is calculated, either manually or by passing an aggregation\n",
      " |  function via the `aggregate_func` keyword argument.\n",
      " |  Note that if the input data set was not balanced before performing the\n",
      " |  aggregation, the implied heteroscedasticity of the data is ignored.\n",
      " |  \n",
      " |  References\n",
      " |  ----------\n",
      " |  .. [*] Rutherford, Andrew. Anova and ANCOVA: a GLM approach. John Wiley & Sons, 2011.\n",
      " |  \n",
      " |  Methods defined here:\n",
      " |  \n",
      " |  __init__(self, data, depvar, subject, within=None, between=None, aggregate_func=None)\n",
      " |      Initialize self.  See help(type(self)) for accurate signature.\n",
      " |  \n",
      " |  fit(self)\n",
      " |      estimate the model and compute the Anova table\n",
      " |      \n",
      " |      Returns\n",
      " |      -------\n",
      " |      AnovaResults instance\n",
      " |  \n",
      " |  ----------------------------------------------------------------------\n",
      " |  Data descriptors defined here:\n",
      " |  \n",
      " |  __dict__\n",
      " |      dictionary for instance variables (if defined)\n",
      " |  \n",
      " |  __weakref__\n",
      " |      list of weak references to the object (if defined)\n",
      "\n"
     ]
    }
   ],
   "source": [
    "help(AnovaRM)"
   ]
  },
  {
   "cell_type": "code",
   "execution_count": null,
   "metadata": {},
   "outputs": [],
   "source": []
  },
  {
   "cell_type": "markdown",
   "metadata": {},
   "source": []
  },
  {
   "cell_type": "code",
   "execution_count": null,
   "metadata": {},
   "outputs": [],
   "source": []
  }
 ],
 "metadata": {
  "kernelspec": {
   "display_name": "Python 3",
   "language": "python",
   "name": "python3"
  },
  "language_info": {
   "codemirror_mode": {
    "name": "ipython",
    "version": 3
   },
   "file_extension": ".py",
   "mimetype": "text/x-python",
   "name": "python",
   "nbconvert_exporter": "python",
   "pygments_lexer": "ipython3",
   "version": "3.9.4"
  }
 },
 "nbformat": 4,
 "nbformat_minor": 2
}
