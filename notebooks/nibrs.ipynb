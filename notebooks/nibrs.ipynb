{
 "cells": [
  {
   "cell_type": "markdown",
   "metadata": {},
   "source": [
    "### NIBRS Data\n",
    "An incident can have many different \"offenses\" attached to it (i.e., Robbery, Motor Vehicle Theft). For each offense, it can have many different offenders, arrestees, victims, and property mentioned. \n",
    "\n",
    "To account for this, the dataset is separable into 6 combinations, and a full join on everything would result in offenses with multiple arrestees being listed twice.\n",
    "\n",
    "Virginia first started using the NIBRS system in 1994; however, it was still up to each individual police department to report crimes in a format they want. \n",
    "\n",
    "Goals with consistency in NIBRS data:\n",
    "- Are we consistent with police departments we include?\n",
    "- Are we still representative of the state by population and demographics (rural, urban)?\n",
    "- Do we include enough years?\n",
    "    - Violent crime has been on the rise for decades, so we need enough data to differentiate it.\n",
    "\n",
    "Extracted Data goals:\n",
    "- Homicides involving a Firearm\n",
    "- Aggravated Assaults involving a Firearm\n",
    "- Theft of Guns.\n",
    "    - This is *exceptionally* common and a prominent way to obtain access to firearms if you're not allowed to purchase them (straw man buys are federal offense). \n",
    "    - It's usually guns left in unsecured cars that are \"broken into\" (AKA: the door is opened and the gun is stolen).\n",
    "\n",
    "Theft of Guns can be used alongside gun laws, I think."
   ]
  },
  {
   "cell_type": "markdown",
   "metadata": {
    "vscode": {
     "languageId": "plaintext"
    }
   },
   "source": [
    "Full data links from VA's Open Data Portal: https://data.virginia.gov/browse?q=NIBRS&sortBy=relevance"
   ]
  },
  {
   "cell_type": "code",
   "execution_count": 1,
   "metadata": {},
   "outputs": [],
   "source": [
    "import numpy as np\n",
    "import os\n",
    "import pandas as pd\n",
    "from sodapy import Socrata"
   ]
  },
  {
   "cell_type": "markdown",
   "metadata": {},
   "source": [
    "```python\n",
    "client = Socrata(\"data.virginia.gov\", app_token=os.environ.get('socrata_api_key'))\n",
    "datasets = {\n",
    "    'incident': 'uc5j-xp8k', \n",
    "    'victim':'v8hz-zj7n', \n",
    "    'offender': 'g6a7-yn7n', \n",
    "    'arrestee':'t3a6-79sg', \n",
    "    'offense': '6kj6-fuus', \n",
    "    'property':'iy5e-x83h'}\n",
    "\n",
    "for name, key in datasets.items():\n",
    "    res = client.get_all(key)\n",
    "    df = pd.DataFrame.from_records(list(res))\n",
    "    df.to_csv(f'../data/raw/{name}.csv')\n",
    "````"
   ]
  },
  {
   "cell_type": "markdown",
   "metadata": {},
   "source": [
    "### What does the offense data look like?\n",
    "This will be used to derive the actual crime data, since it contains the the offense type attached to an incident (i.e., aggravated assault, homicide)."
   ]
  },
  {
   "cell_type": "code",
   "execution_count": 2,
   "metadata": {},
   "outputs": [],
   "source": [
    "offenses = pd.read_csv('../data/raw/offenses.csv', low_memory=False)"
   ]
  },
  {
   "cell_type": "code",
   "execution_count": 3,
   "metadata": {},
   "outputs": [
    {
     "data": {
      "text/plain": [
       "Index(['DATA_YEAR', 'OFFENSE_ID', 'INCIDENT_ID', 'OFFENSE_TYPE_NAME',\n",
       "       'CRIMINAL_ACT_DESC', 'ATTEMPT_COMPLETE', 'LOCATION_NAME',\n",
       "       'NUM_PREMISES_ENTERED', 'METHOD_ENTRY', 'REPORTING_YEAR', 'SOURCE_FILE',\n",
       "       'LOAD_DATE'],\n",
       "      dtype='object')"
      ]
     },
     "execution_count": 3,
     "metadata": {},
     "output_type": "execute_result"
    }
   ],
   "source": [
    "offenses.columns"
   ]
  },
  {
   "cell_type": "code",
   "execution_count": 4,
   "metadata": {},
   "outputs": [
    {
     "data": {
      "text/html": [
       "<div>\n",
       "<style scoped>\n",
       "    .dataframe tbody tr th:only-of-type {\n",
       "        vertical-align: middle;\n",
       "    }\n",
       "\n",
       "    .dataframe tbody tr th {\n",
       "        vertical-align: top;\n",
       "    }\n",
       "\n",
       "    .dataframe thead th {\n",
       "        text-align: right;\n",
       "    }\n",
       "</style>\n",
       "<table border=\"1\" class=\"dataframe\">\n",
       "  <thead>\n",
       "    <tr style=\"text-align: right;\">\n",
       "      <th></th>\n",
       "      <th>DATA_YEAR</th>\n",
       "      <th>OFFENSE_ID</th>\n",
       "      <th>INCIDENT_ID</th>\n",
       "      <th>OFFENSE_TYPE_NAME</th>\n",
       "      <th>CRIMINAL_ACT_DESC</th>\n",
       "      <th>ATTEMPT_COMPLETE</th>\n",
       "      <th>LOCATION_NAME</th>\n",
       "      <th>NUM_PREMISES_ENTERED</th>\n",
       "      <th>METHOD_ENTRY</th>\n",
       "      <th>REPORTING_YEAR</th>\n",
       "      <th>SOURCE_FILE</th>\n",
       "      <th>LOAD_DATE</th>\n",
       "    </tr>\n",
       "  </thead>\n",
       "  <tbody>\n",
       "    <tr>\n",
       "      <th>0</th>\n",
       "      <td>2006</td>\n",
       "      <td>35779798</td>\n",
       "      <td>33853567</td>\n",
       "      <td>NaN</td>\n",
       "      <td>NaN</td>\n",
       "      <td>Completed</td>\n",
       "      <td>NaN</td>\n",
       "      <td>NaN</td>\n",
       "      <td>NaN</td>\n",
       "      <td>2006</td>\n",
       "      <td>NIBRS_OFFENSE</td>\n",
       "      <td>10/12/2021</td>\n",
       "    </tr>\n",
       "    <tr>\n",
       "      <th>1</th>\n",
       "      <td>2007</td>\n",
       "      <td>42405041</td>\n",
       "      <td>41016049</td>\n",
       "      <td>NaN</td>\n",
       "      <td>NaN</td>\n",
       "      <td>Completed</td>\n",
       "      <td>NaN</td>\n",
       "      <td>NaN</td>\n",
       "      <td>NaN</td>\n",
       "      <td>2007</td>\n",
       "      <td>NIBRS_OFFENSE</td>\n",
       "      <td>10/12/2021</td>\n",
       "    </tr>\n",
       "    <tr>\n",
       "      <th>2</th>\n",
       "      <td>2007</td>\n",
       "      <td>45312575</td>\n",
       "      <td>38053229</td>\n",
       "      <td>NaN</td>\n",
       "      <td>NaN</td>\n",
       "      <td>Completed</td>\n",
       "      <td>NaN</td>\n",
       "      <td>NaN</td>\n",
       "      <td>NaN</td>\n",
       "      <td>2007</td>\n",
       "      <td>NIBRS_OFFENSE</td>\n",
       "      <td>10/12/2021</td>\n",
       "    </tr>\n",
       "    <tr>\n",
       "      <th>3</th>\n",
       "      <td>2006</td>\n",
       "      <td>37085497</td>\n",
       "      <td>35420723</td>\n",
       "      <td>NaN</td>\n",
       "      <td>NaN</td>\n",
       "      <td>Completed</td>\n",
       "      <td>NaN</td>\n",
       "      <td>NaN</td>\n",
       "      <td>NaN</td>\n",
       "      <td>2006</td>\n",
       "      <td>NIBRS_OFFENSE</td>\n",
       "      <td>10/12/2021</td>\n",
       "    </tr>\n",
       "    <tr>\n",
       "      <th>4</th>\n",
       "      <td>2002</td>\n",
       "      <td>20845355</td>\n",
       "      <td>19589045</td>\n",
       "      <td>NaN</td>\n",
       "      <td>NaN</td>\n",
       "      <td>Completed</td>\n",
       "      <td>NaN</td>\n",
       "      <td>NaN</td>\n",
       "      <td>NaN</td>\n",
       "      <td>2002</td>\n",
       "      <td>NIBRS_OFFENSE</td>\n",
       "      <td>10/12/2021</td>\n",
       "    </tr>\n",
       "  </tbody>\n",
       "</table>\n",
       "</div>"
      ],
      "text/plain": [
       "   DATA_YEAR  OFFENSE_ID  INCIDENT_ID OFFENSE_TYPE_NAME CRIMINAL_ACT_DESC  \\\n",
       "0       2006    35779798     33853567               NaN               NaN   \n",
       "1       2007    42405041     41016049               NaN               NaN   \n",
       "2       2007    45312575     38053229               NaN               NaN   \n",
       "3       2006    37085497     35420723               NaN               NaN   \n",
       "4       2002    20845355     19589045               NaN               NaN   \n",
       "\n",
       "  ATTEMPT_COMPLETE LOCATION_NAME  NUM_PREMISES_ENTERED METHOD_ENTRY  \\\n",
       "0        Completed           NaN                   NaN          NaN   \n",
       "1        Completed           NaN                   NaN          NaN   \n",
       "2        Completed           NaN                   NaN          NaN   \n",
       "3        Completed           NaN                   NaN          NaN   \n",
       "4        Completed           NaN                   NaN          NaN   \n",
       "\n",
       "   REPORTING_YEAR    SOURCE_FILE   LOAD_DATE  \n",
       "0            2006  NIBRS_OFFENSE  10/12/2021  \n",
       "1            2007  NIBRS_OFFENSE  10/12/2021  \n",
       "2            2007  NIBRS_OFFENSE  10/12/2021  \n",
       "3            2006  NIBRS_OFFENSE  10/12/2021  \n",
       "4            2002  NIBRS_OFFENSE  10/12/2021  "
      ]
     },
     "execution_count": 4,
     "metadata": {},
     "output_type": "execute_result"
    }
   ],
   "source": [
    "offenses.head()"
   ]
  },
  {
   "cell_type": "markdown",
   "metadata": {},
   "source": [
    "### How many Incidents have Offenses?"
   ]
  },
  {
   "cell_type": "code",
   "execution_count": 5,
   "metadata": {},
   "outputs": [
    {
     "data": {
      "text/plain": [
       "0.22991838193759842"
      ]
     },
     "execution_count": 5,
     "metadata": {},
     "output_type": "execute_result"
    }
   ],
   "source": [
    "offenses[~offenses['OFFENSE_TYPE_NAME'].isna()].shape[0]/offenses.shape[0]"
   ]
  },
  {
   "cell_type": "markdown",
   "metadata": {},
   "source": [
    "### How many years have offense data attached to them?"
   ]
  },
  {
   "cell_type": "code",
   "execution_count": 6,
   "metadata": {},
   "outputs": [
    {
     "data": {
      "text/html": [
       "<div>\n",
       "<style scoped>\n",
       "    .dataframe tbody tr th:only-of-type {\n",
       "        vertical-align: middle;\n",
       "    }\n",
       "\n",
       "    .dataframe tbody tr th {\n",
       "        vertical-align: top;\n",
       "    }\n",
       "\n",
       "    .dataframe thead th {\n",
       "        text-align: right;\n",
       "    }\n",
       "</style>\n",
       "<table border=\"1\" class=\"dataframe\">\n",
       "  <thead>\n",
       "    <tr style=\"text-align: right;\">\n",
       "      <th></th>\n",
       "      <th>CtNoOffense</th>\n",
       "    </tr>\n",
       "    <tr>\n",
       "      <th>DATA_YEAR</th>\n",
       "      <th></th>\n",
       "    </tr>\n",
       "  </thead>\n",
       "  <tbody>\n",
       "    <tr>\n",
       "      <th>1994</th>\n",
       "      <td>9624</td>\n",
       "    </tr>\n",
       "    <tr>\n",
       "      <th>1995</th>\n",
       "      <td>22455</td>\n",
       "    </tr>\n",
       "    <tr>\n",
       "      <th>1996</th>\n",
       "      <td>51231</td>\n",
       "    </tr>\n",
       "    <tr>\n",
       "      <th>1997</th>\n",
       "      <td>114108</td>\n",
       "    </tr>\n",
       "    <tr>\n",
       "      <th>1998</th>\n",
       "      <td>163148</td>\n",
       "    </tr>\n",
       "    <tr>\n",
       "      <th>1999</th>\n",
       "      <td>266975</td>\n",
       "    </tr>\n",
       "    <tr>\n",
       "      <th>2000</th>\n",
       "      <td>452767</td>\n",
       "    </tr>\n",
       "    <tr>\n",
       "      <th>2001</th>\n",
       "      <td>483699</td>\n",
       "    </tr>\n",
       "    <tr>\n",
       "      <th>2002</th>\n",
       "      <td>500537</td>\n",
       "    </tr>\n",
       "    <tr>\n",
       "      <th>2003</th>\n",
       "      <td>486990</td>\n",
       "    </tr>\n",
       "    <tr>\n",
       "      <th>2004</th>\n",
       "      <td>482576</td>\n",
       "    </tr>\n",
       "    <tr>\n",
       "      <th>2005</th>\n",
       "      <td>497666</td>\n",
       "    </tr>\n",
       "    <tr>\n",
       "      <th>2006</th>\n",
       "      <td>496074</td>\n",
       "    </tr>\n",
       "    <tr>\n",
       "      <th>2007</th>\n",
       "      <td>501895</td>\n",
       "    </tr>\n",
       "    <tr>\n",
       "      <th>2008</th>\n",
       "      <td>502596</td>\n",
       "    </tr>\n",
       "    <tr>\n",
       "      <th>2009</th>\n",
       "      <td>485507</td>\n",
       "    </tr>\n",
       "    <tr>\n",
       "      <th>2010</th>\n",
       "      <td>474788</td>\n",
       "    </tr>\n",
       "    <tr>\n",
       "      <th>2011</th>\n",
       "      <td>466788</td>\n",
       "    </tr>\n",
       "    <tr>\n",
       "      <th>2012</th>\n",
       "      <td>461795</td>\n",
       "    </tr>\n",
       "    <tr>\n",
       "      <th>2013</th>\n",
       "      <td>448149</td>\n",
       "    </tr>\n",
       "    <tr>\n",
       "      <th>2014</th>\n",
       "      <td>434879</td>\n",
       "    </tr>\n",
       "    <tr>\n",
       "      <th>2015</th>\n",
       "      <td>431444</td>\n",
       "    </tr>\n",
       "  </tbody>\n",
       "</table>\n",
       "</div>"
      ],
      "text/plain": [
       "           CtNoOffense\n",
       "DATA_YEAR             \n",
       "1994              9624\n",
       "1995             22455\n",
       "1996             51231\n",
       "1997            114108\n",
       "1998            163148\n",
       "1999            266975\n",
       "2000            452767\n",
       "2001            483699\n",
       "2002            500537\n",
       "2003            486990\n",
       "2004            482576\n",
       "2005            497666\n",
       "2006            496074\n",
       "2007            501895\n",
       "2008            502596\n",
       "2009            485507\n",
       "2010            474788\n",
       "2011            466788\n",
       "2012            461795\n",
       "2013            448149\n",
       "2014            434879\n",
       "2015            431444"
      ]
     },
     "execution_count": 6,
     "metadata": {},
     "output_type": "execute_result"
    }
   ],
   "source": [
    "offenses[offenses['OFFENSE_TYPE_NAME'].isna()].groupby('DATA_YEAR').agg(CtNoOffense=('DATA_YEAR', 'count'))"
   ]
  },
  {
   "cell_type": "markdown",
   "metadata": {},
   "source": [
    "##### Okay, so complete NIBRS data for virginia only exists for 2016 onwards"
   ]
  },
  {
   "cell_type": "markdown",
   "metadata": {},
   "source": [
    "#### How much data do we have for 2016 onwards?"
   ]
  },
  {
   "cell_type": "code",
   "execution_count": 7,
   "metadata": {},
   "outputs": [
    {
     "data": {
      "text/html": [
       "<div>\n",
       "<style scoped>\n",
       "    .dataframe tbody tr th:only-of-type {\n",
       "        vertical-align: middle;\n",
       "    }\n",
       "\n",
       "    .dataframe tbody tr th {\n",
       "        vertical-align: top;\n",
       "    }\n",
       "\n",
       "    .dataframe thead th {\n",
       "        text-align: right;\n",
       "    }\n",
       "</style>\n",
       "<table border=\"1\" class=\"dataframe\">\n",
       "  <thead>\n",
       "    <tr style=\"text-align: right;\">\n",
       "      <th></th>\n",
       "      <th>OffensesPerYear</th>\n",
       "    </tr>\n",
       "    <tr>\n",
       "      <th>DATA_YEAR</th>\n",
       "      <th></th>\n",
       "    </tr>\n",
       "  </thead>\n",
       "  <tbody>\n",
       "    <tr>\n",
       "      <th>2016</th>\n",
       "      <td>438314</td>\n",
       "    </tr>\n",
       "    <tr>\n",
       "      <th>2017</th>\n",
       "      <td>438170</td>\n",
       "    </tr>\n",
       "    <tr>\n",
       "      <th>2018</th>\n",
       "      <td>422399</td>\n",
       "    </tr>\n",
       "    <tr>\n",
       "      <th>2019</th>\n",
       "      <td>418956</td>\n",
       "    </tr>\n",
       "    <tr>\n",
       "      <th>2020</th>\n",
       "      <td>379163</td>\n",
       "    </tr>\n",
       "    <tr>\n",
       "      <th>2021</th>\n",
       "      <td>361876</td>\n",
       "    </tr>\n",
       "  </tbody>\n",
       "</table>\n",
       "</div>"
      ],
      "text/plain": [
       "           OffensesPerYear\n",
       "DATA_YEAR                 \n",
       "2016                438314\n",
       "2017                438170\n",
       "2018                422399\n",
       "2019                418956\n",
       "2020                379163\n",
       "2021                361876"
      ]
     },
     "execution_count": 7,
     "metadata": {},
     "output_type": "execute_result"
    }
   ],
   "source": [
    "offenses[offenses['DATA_YEAR']>2015].groupby('DATA_YEAR').agg(OffensesPerYear=('DATA_YEAR', 'count'))"
   ]
  },
  {
   "cell_type": "markdown",
   "metadata": {},
   "source": [
    "### Restrict offenses to 2016 onwards and save"
   ]
  },
  {
   "cell_type": "code",
   "execution_count": 8,
   "metadata": {},
   "outputs": [],
   "source": [
    "offenses = offenses[offenses['DATA_YEAR']>2015].loc[:]"
   ]
  },
  {
   "cell_type": "code",
   "execution_count": 9,
   "metadata": {},
   "outputs": [],
   "source": [
    "offenses.to_csv('../data/processed/offenses_2016+.csv')"
   ]
  },
  {
   "cell_type": "markdown",
   "metadata": {},
   "source": [
    "#### How many distinct police departments per year?\n",
    "To answer this question, we now need the Incidents data"
   ]
  },
  {
   "cell_type": "code",
   "execution_count": 11,
   "metadata": {},
   "outputs": [],
   "source": [
    "incidents = pd.read_csv('../data/raw/incidents.csv', low_memory=False)"
   ]
  },
  {
   "cell_type": "code",
   "execution_count": 12,
   "metadata": {},
   "outputs": [],
   "source": [
    "incidents = incidents[incidents['DATA_YEAR']>2015].loc[:]"
   ]
  },
  {
   "cell_type": "code",
   "execution_count": 13,
   "metadata": {},
   "outputs": [
    {
     "data": {
      "text/html": [
       "<div>\n",
       "<style scoped>\n",
       "    .dataframe tbody tr th:only-of-type {\n",
       "        vertical-align: middle;\n",
       "    }\n",
       "\n",
       "    .dataframe tbody tr th {\n",
       "        vertical-align: top;\n",
       "    }\n",
       "\n",
       "    .dataframe thead th {\n",
       "        text-align: right;\n",
       "    }\n",
       "</style>\n",
       "<table border=\"1\" class=\"dataframe\">\n",
       "  <thead>\n",
       "    <tr style=\"text-align: right;\">\n",
       "      <th></th>\n",
       "      <th>DATA_YEAR</th>\n",
       "      <th>INCIDENT_ID</th>\n",
       "      <th>PUB_AGENCY_NAME</th>\n",
       "      <th>FIPS</th>\n",
       "      <th>CARGO_THEFT_FLAG</th>\n",
       "      <th>SUBMISSION_DATE</th>\n",
       "      <th>INCIDENT_DATE</th>\n",
       "      <th>REPORT_DATE_FLAG</th>\n",
       "      <th>INCIDENT_HOUR</th>\n",
       "      <th>INCIDENT_STATUS</th>\n",
       "      <th>DATA_HOME</th>\n",
       "      <th>ORIG_FORMAT</th>\n",
       "      <th>DID</th>\n",
       "      <th>REPORTING_YEAR</th>\n",
       "      <th>SOURCE_FILE</th>\n",
       "      <th>LOAD_DATE</th>\n",
       "    </tr>\n",
       "  </thead>\n",
       "  <tbody>\n",
       "    <tr>\n",
       "      <th>37</th>\n",
       "      <td>2017</td>\n",
       "      <td>91016486</td>\n",
       "      <td>Chesterfield County Police Department</td>\n",
       "      <td>51041</td>\n",
       "      <td>N</td>\n",
       "      <td>08/17/2018</td>\n",
       "      <td>04/13/2017</td>\n",
       "      <td>NaN</td>\n",
       "      <td>4.0</td>\n",
       "      <td>0</td>\n",
       "      <td>C</td>\n",
       "      <td>F</td>\n",
       "      <td>7857615.0</td>\n",
       "      <td>2017</td>\n",
       "      <td>NIBRS_incident</td>\n",
       "      <td>10/07/2021</td>\n",
       "    </tr>\n",
       "    <tr>\n",
       "      <th>46</th>\n",
       "      <td>2016</td>\n",
       "      <td>87798397</td>\n",
       "      <td>Hampton Police Department</td>\n",
       "      <td>51650</td>\n",
       "      <td>NaN</td>\n",
       "      <td>NaN</td>\n",
       "      <td>10/15/2016</td>\n",
       "      <td>NaN</td>\n",
       "      <td>23.0</td>\n",
       "      <td>0</td>\n",
       "      <td>C</td>\n",
       "      <td>NaN</td>\n",
       "      <td>NaN</td>\n",
       "      <td>2016</td>\n",
       "      <td>NIBRS_incident</td>\n",
       "      <td>10/07/2021</td>\n",
       "    </tr>\n",
       "    <tr>\n",
       "      <th>48</th>\n",
       "      <td>2019</td>\n",
       "      <td>117413659</td>\n",
       "      <td>Norfolk Police Department</td>\n",
       "      <td>51710</td>\n",
       "      <td>NaN</td>\n",
       "      <td>11/04/2019</td>\n",
       "      <td>08/28/2019</td>\n",
       "      <td>NaN</td>\n",
       "      <td>10.0</td>\n",
       "      <td>0</td>\n",
       "      <td>C</td>\n",
       "      <td>F</td>\n",
       "      <td>59398285.0</td>\n",
       "      <td>2019</td>\n",
       "      <td>NIBRS_incident</td>\n",
       "      <td>10/07/2021</td>\n",
       "    </tr>\n",
       "    <tr>\n",
       "      <th>52</th>\n",
       "      <td>2016</td>\n",
       "      <td>86317943</td>\n",
       "      <td>Roanoke Police Department</td>\n",
       "      <td>51770</td>\n",
       "      <td>NaN</td>\n",
       "      <td>NaN</td>\n",
       "      <td>07/21/2016</td>\n",
       "      <td>NaN</td>\n",
       "      <td>14.0</td>\n",
       "      <td>0</td>\n",
       "      <td>C</td>\n",
       "      <td>NaN</td>\n",
       "      <td>NaN</td>\n",
       "      <td>2016</td>\n",
       "      <td>NIBRS_incident</td>\n",
       "      <td>10/07/2021</td>\n",
       "    </tr>\n",
       "    <tr>\n",
       "      <th>56</th>\n",
       "      <td>2017</td>\n",
       "      <td>97110782</td>\n",
       "      <td>Fairfax County Police Department</td>\n",
       "      <td>51059</td>\n",
       "      <td>N</td>\n",
       "      <td>08/20/2018</td>\n",
       "      <td>09/11/2017</td>\n",
       "      <td>NaN</td>\n",
       "      <td>0.0</td>\n",
       "      <td>0</td>\n",
       "      <td>C</td>\n",
       "      <td>F</td>\n",
       "      <td>19644756.0</td>\n",
       "      <td>2017</td>\n",
       "      <td>NIBRS_incident</td>\n",
       "      <td>10/07/2021</td>\n",
       "    </tr>\n",
       "  </tbody>\n",
       "</table>\n",
       "</div>"
      ],
      "text/plain": [
       "    DATA_YEAR  INCIDENT_ID                        PUB_AGENCY_NAME   FIPS  \\\n",
       "37       2017     91016486  Chesterfield County Police Department  51041   \n",
       "46       2016     87798397              Hampton Police Department  51650   \n",
       "48       2019    117413659              Norfolk Police Department  51710   \n",
       "52       2016     86317943              Roanoke Police Department  51770   \n",
       "56       2017     97110782       Fairfax County Police Department  51059   \n",
       "\n",
       "   CARGO_THEFT_FLAG SUBMISSION_DATE INCIDENT_DATE REPORT_DATE_FLAG  \\\n",
       "37                N      08/17/2018    04/13/2017              NaN   \n",
       "46              NaN             NaN    10/15/2016              NaN   \n",
       "48              NaN      11/04/2019    08/28/2019              NaN   \n",
       "52              NaN             NaN    07/21/2016              NaN   \n",
       "56                N      08/20/2018    09/11/2017              NaN   \n",
       "\n",
       "    INCIDENT_HOUR INCIDENT_STATUS DATA_HOME ORIG_FORMAT         DID  \\\n",
       "37            4.0               0         C           F   7857615.0   \n",
       "46           23.0               0         C         NaN         NaN   \n",
       "48           10.0               0         C           F  59398285.0   \n",
       "52           14.0               0         C         NaN         NaN   \n",
       "56            0.0               0         C           F  19644756.0   \n",
       "\n",
       "    REPORTING_YEAR     SOURCE_FILE   LOAD_DATE  \n",
       "37            2017  NIBRS_incident  10/07/2021  \n",
       "46            2016  NIBRS_incident  10/07/2021  \n",
       "48            2019  NIBRS_incident  10/07/2021  \n",
       "52            2016  NIBRS_incident  10/07/2021  \n",
       "56            2017  NIBRS_incident  10/07/2021  "
      ]
     },
     "execution_count": 13,
     "metadata": {},
     "output_type": "execute_result"
    }
   ],
   "source": [
    "incidents.head()"
   ]
  },
  {
   "cell_type": "markdown",
   "metadata": {},
   "source": [
    "#### Combine Incidents and Offense Data"
   ]
  },
  {
   "cell_type": "code",
   "execution_count": 14,
   "metadata": {},
   "outputs": [],
   "source": [
    "offenses = offenses.merge(incidents, how='left', on='INCIDENT_ID', suffixes=['','_drop'])\n",
    "offenses.drop(columns=[col for col in offenses.columns if 'drop' in col], inplace=True)"
   ]
  },
  {
   "cell_type": "markdown",
   "metadata": {},
   "source": [
    "### Now answer question about how many unique police departments each year"
   ]
  },
  {
   "cell_type": "code",
   "execution_count": 17,
   "metadata": {},
   "outputs": [
    {
     "data": {
      "text/html": [
       "<div>\n",
       "<style scoped>\n",
       "    .dataframe tbody tr th:only-of-type {\n",
       "        vertical-align: middle;\n",
       "    }\n",
       "\n",
       "    .dataframe tbody tr th {\n",
       "        vertical-align: top;\n",
       "    }\n",
       "\n",
       "    .dataframe thead th {\n",
       "        text-align: right;\n",
       "    }\n",
       "</style>\n",
       "<table border=\"1\" class=\"dataframe\">\n",
       "  <thead>\n",
       "    <tr style=\"text-align: right;\">\n",
       "      <th></th>\n",
       "      <th>distinctpolice</th>\n",
       "    </tr>\n",
       "    <tr>\n",
       "      <th>DATA_YEAR</th>\n",
       "      <th></th>\n",
       "    </tr>\n",
       "  </thead>\n",
       "  <tbody>\n",
       "    <tr>\n",
       "      <th>2016</th>\n",
       "      <td>413</td>\n",
       "    </tr>\n",
       "    <tr>\n",
       "      <th>2017</th>\n",
       "      <td>412</td>\n",
       "    </tr>\n",
       "    <tr>\n",
       "      <th>2018</th>\n",
       "      <td>412</td>\n",
       "    </tr>\n",
       "    <tr>\n",
       "      <th>2019</th>\n",
       "      <td>411</td>\n",
       "    </tr>\n",
       "    <tr>\n",
       "      <th>2020</th>\n",
       "      <td>408</td>\n",
       "    </tr>\n",
       "    <tr>\n",
       "      <th>2021</th>\n",
       "      <td>410</td>\n",
       "    </tr>\n",
       "  </tbody>\n",
       "</table>\n",
       "</div>"
      ],
      "text/plain": [
       "           distinctpolice\n",
       "DATA_YEAR                \n",
       "2016                  413\n",
       "2017                  412\n",
       "2018                  412\n",
       "2019                  411\n",
       "2020                  408\n",
       "2021                  410"
      ]
     },
     "execution_count": 17,
     "metadata": {},
     "output_type": "execute_result"
    }
   ],
   "source": [
    "offenses.groupby('DATA_YEAR').agg(distinctpolice=('PUB_AGENCY_NAME', 'nunique'))"
   ]
  },
  {
   "cell_type": "markdown",
   "metadata": {},
   "source": [
    "### Okay let's find Police departments that didn't participate every year and exclude them"
   ]
  },
  {
   "cell_type": "code",
   "execution_count": 18,
   "metadata": {},
   "outputs": [],
   "source": [
    "departments = {} # format is gonna be year: set of departments\n",
    "for year in list(pd.unique(offenses['DATA_YEAR'])):\n",
    "    departments[year] = set(offenses[offenses['DATA_YEAR']==year]['PUB_AGENCY_NAME'])"
   ]
  },
  {
   "cell_type": "code",
   "execution_count": 30,
   "metadata": {},
   "outputs": [
    {
     "name": "stdout",
     "output_type": "stream",
     "text": [
      "For year 2017, missing departments: {'Eastville', 'Remington Police Department', 'Virginia Marine Resources Commission Law Enforcement Division', nan, 'Bowling Green Police Department', 'Wintergreen', 'Boykins Police Department', 'Central State Hospital', 'Pocahontas Police Department'}\n",
      "For year 2018, missing departments: {'State Police: Poquoson', 'Remington Police Department', 'Eastville', nan, 'Bowling Green Police Department', 'Wintergreen', 'Boykins Police Department', 'Central State Hospital', 'Quantico Police Department'}\n",
      "For year 2019, missing departments: {'Eastville', 'Remington Police Department', 'State Police: Manassas Park', nan, 'Wintergreen', 'Boykins Police Department', 'Central State Hospital', 'Glen Lyn Police Department', 'Thomas Nelson Community College', 'Quantico Police Department'}\n",
      "For year 2016, missing departments: {'Eastville', 'State Police: Manassas Park', 'Virginia Marine Resources Commission Law Enforcement Division', 'Occoquan Police Department', nan, 'Bowling Green Police Department', 'Wintergreen', 'University of Mary Washington'}\n",
      "For year 2021, missing departments: {'Germanna Community College', 'Appalachia Police Department', 'Remington Police Department', 'Bridgewater College', nan, 'Boykins Police Department', 'White Stone Police Department', 'Central State Hospital', 'Ferrum College', 'Thomas Nelson Community College', 'Quantico Police Department'}\n",
      "For year 2020, missing departments: {'Eastville', 'Emory and Henry College', 'State Police: Manassas Park', 'State Police: Williamsburg', 'Wintergreen', 'Lord Fairfax Community College', 'Boykins Police Department', 'White Stone Police Department', 'Central State Hospital', 'Ferrum College', 'Thomas Nelson Community College', 'Quantico Police Department'}\n"
     ]
    }
   ],
   "source": [
    "total_depts = set(pd.unique(offenses['PUB_AGENCY_NAME']))\n",
    "missing_depts = set()\n",
    "for year, dept in departments.items():\n",
    "    print(f'For year {year}, missing departments: {total_depts.difference(dept)}')\n",
    "    missing_depts = missing_depts.union(total_depts.difference(dept))"
   ]
  },
  {
   "cell_type": "code",
   "execution_count": 32,
   "metadata": {},
   "outputs": [
    {
     "name": "stdout",
     "output_type": "stream",
     "text": [
      "Combined Missing Departments (24):\n",
      "\n"
     ]
    },
    {
     "data": {
      "text/plain": [
       "{'Appalachia Police Department',\n",
       " 'Bowling Green Police Department',\n",
       " 'Boykins Police Department',\n",
       " 'Bridgewater College',\n",
       " 'Central State Hospital',\n",
       " 'Eastville',\n",
       " 'Emory and Henry College',\n",
       " 'Ferrum College',\n",
       " 'Germanna Community College',\n",
       " 'Glen Lyn Police Department',\n",
       " 'Lord Fairfax Community College',\n",
       " 'Occoquan Police Department',\n",
       " 'Pocahontas Police Department',\n",
       " 'Quantico Police Department',\n",
       " 'Remington Police Department',\n",
       " 'State Police: Manassas Park',\n",
       " 'State Police: Poquoson',\n",
       " 'State Police: Williamsburg',\n",
       " 'Thomas Nelson Community College',\n",
       " 'University of Mary Washington',\n",
       " 'Virginia Marine Resources Commission Law Enforcement Division',\n",
       " 'White Stone Police Department',\n",
       " 'Wintergreen',\n",
       " nan}"
      ]
     },
     "execution_count": 32,
     "metadata": {},
     "output_type": "execute_result"
    }
   ],
   "source": [
    "print(f'Combined Missing Departments ({len(missing_depts)}):\\n')\n",
    "missing_depts"
   ]
  },
  {
   "cell_type": "markdown",
   "metadata": {},
   "source": [
    "### Remove Inconsistently Reported Police Departments and Data without a Police Department (nan)\n",
    "This is a removal of only 1,801 rows, which is almost irrelevant in a dataset of our size at the moment. This makes complete sense, given that most of the police departments were likely low volume (i.e., university or perhaps only reported one year)."
   ]
  },
  {
   "cell_type": "code",
   "execution_count": 36,
   "metadata": {},
   "outputs": [],
   "source": [
    "offenses = offenses[(~offenses['PUB_AGENCY_NAME'].isin(missing_depts)) & (offenses['PUB_AGENCY_NAME'].notna())]"
   ]
  },
  {
   "cell_type": "code",
   "execution_count": 38,
   "metadata": {},
   "outputs": [],
   "source": [
    "offenses.to_csv('../data/processed/offenses_2016+_cons_dpts.csv')"
   ]
  },
  {
   "cell_type": "markdown",
   "metadata": {},
   "source": [
    "### Okay now let's restrict to our crime types we care about"
   ]
  },
  {
   "cell_type": "code",
   "execution_count": 40,
   "metadata": {},
   "outputs": [],
   "source": [
    "care = ['Murder and Nonnegligent Manslaughter', 'Aggravated Assault']\n",
    "offenses = offenses[offenses['OFFENSE_TYPE_NAME'].isin(care)]"
   ]
  },
  {
   "cell_type": "markdown",
   "metadata": {},
   "source": [
    "### lol... the virginia provided data doesn't include the weapon type in its' offense\n",
    "New Data Source: https://www.openicpsr.org/openicpsr/project/118281/version/V8/view?path=/openicpsr/118281/fcr:versions/V8/nibrs_1991_2021_offense_segment_rds.zip&type=file\n",
    "\n",
    "I was redirected to this site from the FBI's anyways. This is just a compilation of all the years to prevent having to download each individual year. It is provided as an `rds` file.\n",
    "\n",
    "### This also provides an opportunity for us to do the entire US, if we identified a reason.\n",
    "For now, we will only keep offenses within Virginia and departments that participated in all years."
   ]
  },
  {
   "cell_type": "code",
   "execution_count": 1,
   "metadata": {},
   "outputs": [],
   "source": [
    "from pyreadr import read_r\n",
    "import pandas as pd"
   ]
  },
  {
   "cell_type": "code",
   "execution_count": 2,
   "metadata": {},
   "outputs": [],
   "source": [
    "keep_crimes = ['robbery', 'aggravated assault', 'murder/nonnegligent manslaughter']\n",
    "dfs = []\n",
    "for year in range(2016, 2021, 1):\n",
    "    df = read_r(rf'..\\data\\raw\\nibrs_offense_segment_{str(year)}.rds')[None]\n",
    "    # filter to VA\n",
    "    df = df[(df['state_abb']=='VA') & (df['ucr_offense_code'].isin(keep_crimes))].loc[:]\n",
    "    dfs.append(df)\n",
    "offenses = pd.concat(dfs)"
   ]
  },
  {
   "cell_type": "code",
   "execution_count": 3,
   "metadata": {},
   "outputs": [],
   "source": [
    "offenses.to_csv('../data/processed/nibrs_offense_segments.csv')"
   ]
  },
  {
   "cell_type": "code",
   "execution_count": 4,
   "metadata": {},
   "outputs": [
    {
     "data": {
      "text/html": [
       "<div>\n",
       "<style scoped>\n",
       "    .dataframe tbody tr th:only-of-type {\n",
       "        vertical-align: middle;\n",
       "    }\n",
       "\n",
       "    .dataframe tbody tr th {\n",
       "        vertical-align: top;\n",
       "    }\n",
       "\n",
       "    .dataframe thead th {\n",
       "        text-align: right;\n",
       "    }\n",
       "</style>\n",
       "<table border=\"1\" class=\"dataframe\">\n",
       "  <thead>\n",
       "    <tr style=\"text-align: right;\">\n",
       "      <th></th>\n",
       "      <th>ori</th>\n",
       "      <th>year</th>\n",
       "      <th>state</th>\n",
       "      <th>state_abb</th>\n",
       "      <th>incident_number</th>\n",
       "      <th>incident_date</th>\n",
       "      <th>ucr_offense_code</th>\n",
       "      <th>offense_attempted_or_completed</th>\n",
       "      <th>offender_suspected_of_using_1</th>\n",
       "      <th>offender_suspected_of_using_2</th>\n",
       "      <th>...</th>\n",
       "      <th>type_criminal_activity_2</th>\n",
       "      <th>type_criminal_activity_3</th>\n",
       "      <th>type_weapon_force_involved_1</th>\n",
       "      <th>automatic_weapon_indicator_1</th>\n",
       "      <th>type_weapon_force_involved_2</th>\n",
       "      <th>automatic_weapon_indicator_2</th>\n",
       "      <th>type_weapon_force_involved_3</th>\n",
       "      <th>automatic_weapon_indicator_3</th>\n",
       "      <th>bias_motivation</th>\n",
       "      <th>unique_incident_id</th>\n",
       "    </tr>\n",
       "  </thead>\n",
       "  <tbody>\n",
       "    <tr>\n",
       "      <th>4932027</th>\n",
       "      <td>VA0010000</td>\n",
       "      <td>2016.0</td>\n",
       "      <td>virginia</td>\n",
       "      <td>VA</td>\n",
       "      <td>5F10-0WNU52S</td>\n",
       "      <td>2015-04-13</td>\n",
       "      <td>robbery</td>\n",
       "      <td>completed</td>\n",
       "      <td>not applicable</td>\n",
       "      <td>NaN</td>\n",
       "      <td>...</td>\n",
       "      <td>NaN</td>\n",
       "      <td>NaN</td>\n",
       "      <td>handgun</td>\n",
       "      <td>NaN</td>\n",
       "      <td>NaN</td>\n",
       "      <td>NaN</td>\n",
       "      <td>NaN</td>\n",
       "      <td>NaN</td>\n",
       "      <td>no bias motivation</td>\n",
       "      <td>VA0010000 5F10-0WNU52S</td>\n",
       "    </tr>\n",
       "    <tr>\n",
       "      <th>4932041</th>\n",
       "      <td>VA0010000</td>\n",
       "      <td>2016.0</td>\n",
       "      <td>virginia</td>\n",
       "      <td>VA</td>\n",
       "      <td>5F10-0W0U45S</td>\n",
       "      <td>2015-12-02</td>\n",
       "      <td>robbery</td>\n",
       "      <td>completed</td>\n",
       "      <td>not applicable</td>\n",
       "      <td>NaN</td>\n",
       "      <td>...</td>\n",
       "      <td>NaN</td>\n",
       "      <td>NaN</td>\n",
       "      <td>handgun</td>\n",
       "      <td>NaN</td>\n",
       "      <td>NaN</td>\n",
       "      <td>NaN</td>\n",
       "      <td>NaN</td>\n",
       "      <td>NaN</td>\n",
       "      <td>unknown bias motivation</td>\n",
       "      <td>VA0010000 5F10-0W0U45S</td>\n",
       "    </tr>\n",
       "    <tr>\n",
       "      <th>4932046</th>\n",
       "      <td>VA0010000</td>\n",
       "      <td>2016.0</td>\n",
       "      <td>virginia</td>\n",
       "      <td>VA</td>\n",
       "      <td>5F10-0A5H54S</td>\n",
       "      <td>2015-12-25</td>\n",
       "      <td>robbery</td>\n",
       "      <td>completed</td>\n",
       "      <td>not applicable</td>\n",
       "      <td>NaN</td>\n",
       "      <td>...</td>\n",
       "      <td>NaN</td>\n",
       "      <td>NaN</td>\n",
       "      <td>personal weapons (hands, feet, teeth, etc.)</td>\n",
       "      <td>NaN</td>\n",
       "      <td>NaN</td>\n",
       "      <td>NaN</td>\n",
       "      <td>NaN</td>\n",
       "      <td>NaN</td>\n",
       "      <td>unknown bias motivation</td>\n",
       "      <td>VA0010000 5F10-0A5H54S</td>\n",
       "    </tr>\n",
       "    <tr>\n",
       "      <th>4932047</th>\n",
       "      <td>VA0010000</td>\n",
       "      <td>2016.0</td>\n",
       "      <td>virginia</td>\n",
       "      <td>VA</td>\n",
       "      <td>5F10-0A5MW6S</td>\n",
       "      <td>2015-12-26</td>\n",
       "      <td>murder/nonnegligent manslaughter</td>\n",
       "      <td>completed</td>\n",
       "      <td>not applicable</td>\n",
       "      <td>NaN</td>\n",
       "      <td>...</td>\n",
       "      <td>NaN</td>\n",
       "      <td>NaN</td>\n",
       "      <td>firearm (type not stated)</td>\n",
       "      <td>NaN</td>\n",
       "      <td>NaN</td>\n",
       "      <td>NaN</td>\n",
       "      <td>NaN</td>\n",
       "      <td>NaN</td>\n",
       "      <td>no bias motivation</td>\n",
       "      <td>VA0010000 5F10-0A5MW6S</td>\n",
       "    </tr>\n",
       "    <tr>\n",
       "      <th>4932048</th>\n",
       "      <td>VA0010000</td>\n",
       "      <td>2016.0</td>\n",
       "      <td>virginia</td>\n",
       "      <td>VA</td>\n",
       "      <td>5F10-0A5JW6S</td>\n",
       "      <td>2015-12-30</td>\n",
       "      <td>robbery</td>\n",
       "      <td>completed</td>\n",
       "      <td>not applicable</td>\n",
       "      <td>NaN</td>\n",
       "      <td>...</td>\n",
       "      <td>NaN</td>\n",
       "      <td>NaN</td>\n",
       "      <td>handgun</td>\n",
       "      <td>NaN</td>\n",
       "      <td>NaN</td>\n",
       "      <td>NaN</td>\n",
       "      <td>NaN</td>\n",
       "      <td>NaN</td>\n",
       "      <td>no bias motivation</td>\n",
       "      <td>VA0010000 5F10-0A5JW6S</td>\n",
       "    </tr>\n",
       "  </tbody>\n",
       "</table>\n",
       "<p>5 rows × 25 columns</p>\n",
       "</div>"
      ],
      "text/plain": [
       "               ori    year     state state_abb incident_number incident_date  \\\n",
       "4932027  VA0010000  2016.0  virginia        VA    5F10-0WNU52S    2015-04-13   \n",
       "4932041  VA0010000  2016.0  virginia        VA    5F10-0W0U45S    2015-12-02   \n",
       "4932046  VA0010000  2016.0  virginia        VA    5F10-0A5H54S    2015-12-25   \n",
       "4932047  VA0010000  2016.0  virginia        VA    5F10-0A5MW6S    2015-12-26   \n",
       "4932048  VA0010000  2016.0  virginia        VA    5F10-0A5JW6S    2015-12-30   \n",
       "\n",
       "                         ucr_offense_code offense_attempted_or_completed  \\\n",
       "4932027                           robbery                      completed   \n",
       "4932041                           robbery                      completed   \n",
       "4932046                           robbery                      completed   \n",
       "4932047  murder/nonnegligent manslaughter                      completed   \n",
       "4932048                           robbery                      completed   \n",
       "\n",
       "        offender_suspected_of_using_1 offender_suspected_of_using_2  ...  \\\n",
       "4932027                not applicable                           NaN  ...   \n",
       "4932041                not applicable                           NaN  ...   \n",
       "4932046                not applicable                           NaN  ...   \n",
       "4932047                not applicable                           NaN  ...   \n",
       "4932048                not applicable                           NaN  ...   \n",
       "\n",
       "        type_criminal_activity_2 type_criminal_activity_3  \\\n",
       "4932027                      NaN                      NaN   \n",
       "4932041                      NaN                      NaN   \n",
       "4932046                      NaN                      NaN   \n",
       "4932047                      NaN                      NaN   \n",
       "4932048                      NaN                      NaN   \n",
       "\n",
       "                        type_weapon_force_involved_1  \\\n",
       "4932027                                      handgun   \n",
       "4932041                                      handgun   \n",
       "4932046  personal weapons (hands, feet, teeth, etc.)   \n",
       "4932047                    firearm (type not stated)   \n",
       "4932048                                      handgun   \n",
       "\n",
       "        automatic_weapon_indicator_1 type_weapon_force_involved_2  \\\n",
       "4932027                          NaN                          NaN   \n",
       "4932041                          NaN                          NaN   \n",
       "4932046                          NaN                          NaN   \n",
       "4932047                          NaN                          NaN   \n",
       "4932048                          NaN                          NaN   \n",
       "\n",
       "        automatic_weapon_indicator_2 type_weapon_force_involved_3  \\\n",
       "4932027                          NaN                          NaN   \n",
       "4932041                          NaN                          NaN   \n",
       "4932046                          NaN                          NaN   \n",
       "4932047                          NaN                          NaN   \n",
       "4932048                          NaN                          NaN   \n",
       "\n",
       "        automatic_weapon_indicator_3          bias_motivation  \\\n",
       "4932027                          NaN       no bias motivation   \n",
       "4932041                          NaN  unknown bias motivation   \n",
       "4932046                          NaN  unknown bias motivation   \n",
       "4932047                          NaN       no bias motivation   \n",
       "4932048                          NaN       no bias motivation   \n",
       "\n",
       "             unique_incident_id  \n",
       "4932027  VA0010000 5F10-0WNU52S  \n",
       "4932041  VA0010000 5F10-0W0U45S  \n",
       "4932046  VA0010000 5F10-0A5H54S  \n",
       "4932047  VA0010000 5F10-0A5MW6S  \n",
       "4932048  VA0010000 5F10-0A5JW6S  \n",
       "\n",
       "[5 rows x 25 columns]"
      ]
     },
     "execution_count": 4,
     "metadata": {},
     "output_type": "execute_result"
    }
   ],
   "source": [
    "offenses.head()"
   ]
  },
  {
   "cell_type": "code",
   "execution_count": 5,
   "metadata": {},
   "outputs": [
    {
     "name": "stdout",
     "output_type": "stream",
     "text": [
      "<class 'pandas.core.frame.DataFrame'>\n",
      "Index: 67036 entries, 4932027 to 7826945\n",
      "Data columns (total 25 columns):\n",
      " #   Column                          Non-Null Count  Dtype  \n",
      "---  ------                          --------------  -----  \n",
      " 0   ori                             67036 non-null  object \n",
      " 1   year                            67036 non-null  float64\n",
      " 2   state                           67036 non-null  object \n",
      " 3   state_abb                       67036 non-null  object \n",
      " 4   incident_number                 67036 non-null  object \n",
      " 5   incident_date                   67036 non-null  object \n",
      " 6   ucr_offense_code                67036 non-null  object \n",
      " 7   offense_attempted_or_completed  67036 non-null  object \n",
      " 8   offender_suspected_of_using_1   67036 non-null  object \n",
      " 9   offender_suspected_of_using_2   349 non-null    object \n",
      " 10  offender_suspected_of_using_3   2 non-null      object \n",
      " 11  location_type                   67036 non-null  object \n",
      " 12  number_of_premises_entered      0 non-null      float64\n",
      " 13  method_of_entry                 0 non-null      object \n",
      " 14  type_criminal_activity_1        30359 non-null  object \n",
      " 15  type_criminal_activity_2        4 non-null      object \n",
      " 16  type_criminal_activity_3        0 non-null      object \n",
      " 17  type_weapon_force_involved_1    67036 non-null  object \n",
      " 18  automatic_weapon_indicator_1    1987 non-null   object \n",
      " 19  type_weapon_force_involved_2    3147 non-null   object \n",
      " 20  automatic_weapon_indicator_2    54 non-null     object \n",
      " 21  type_weapon_force_involved_3    219 non-null    object \n",
      " 22  automatic_weapon_indicator_3    1 non-null      object \n",
      " 23  bias_motivation                 67036 non-null  object \n",
      " 24  unique_incident_id              67036 non-null  object \n",
      "dtypes: float64(2), object(23)\n",
      "memory usage: 13.3+ MB\n"
     ]
    }
   ],
   "source": [
    "offenses.info()"
   ]
  },
  {
   "cell_type": "code",
   "execution_count": 9,
   "metadata": {},
   "outputs": [
    {
     "data": {
      "text/html": [
       "<div>\n",
       "<style scoped>\n",
       "    .dataframe tbody tr th:only-of-type {\n",
       "        vertical-align: middle;\n",
       "    }\n",
       "\n",
       "    .dataframe tbody tr th {\n",
       "        vertical-align: top;\n",
       "    }\n",
       "\n",
       "    .dataframe thead th {\n",
       "        text-align: right;\n",
       "    }\n",
       "</style>\n",
       "<table border=\"1\" class=\"dataframe\">\n",
       "  <thead>\n",
       "    <tr style=\"text-align: right;\">\n",
       "      <th></th>\n",
       "      <th>ori</th>\n",
       "      <th>year</th>\n",
       "      <th>state</th>\n",
       "      <th>state_abb</th>\n",
       "      <th>incident_number</th>\n",
       "      <th>incident_date</th>\n",
       "      <th>ucr_offense_code</th>\n",
       "      <th>offense_attempted_or_completed</th>\n",
       "      <th>offender_suspected_of_using_1</th>\n",
       "      <th>offender_suspected_of_using_2</th>\n",
       "      <th>...</th>\n",
       "      <th>type_criminal_activity_2</th>\n",
       "      <th>type_criminal_activity_3</th>\n",
       "      <th>type_weapon_force_involved_1</th>\n",
       "      <th>automatic_weapon_indicator_1</th>\n",
       "      <th>type_weapon_force_involved_2</th>\n",
       "      <th>automatic_weapon_indicator_2</th>\n",
       "      <th>type_weapon_force_involved_3</th>\n",
       "      <th>automatic_weapon_indicator_3</th>\n",
       "      <th>bias_motivation</th>\n",
       "      <th>unique_incident_id</th>\n",
       "    </tr>\n",
       "  </thead>\n",
       "  <tbody>\n",
       "    <tr>\n",
       "      <th>7448148</th>\n",
       "      <td>VA0010000</td>\n",
       "      <td>2020.0</td>\n",
       "      <td>virginia</td>\n",
       "      <td>VA</td>\n",
       "      <td>2W2HGU7 7NBA</td>\n",
       "      <td>2020-07-04</td>\n",
       "      <td>aggravated assault</td>\n",
       "      <td>completed</td>\n",
       "      <td>not applicable</td>\n",
       "      <td>NaN</td>\n",
       "      <td>...</td>\n",
       "      <td>NaN</td>\n",
       "      <td>NaN</td>\n",
       "      <td>handgun</td>\n",
       "      <td>automatic weapon</td>\n",
       "      <td>NaN</td>\n",
       "      <td>NaN</td>\n",
       "      <td>NaN</td>\n",
       "      <td>NaN</td>\n",
       "      <td>no bias motivation</td>\n",
       "      <td>VA0010000 2W2HGU7 7NBA</td>\n",
       "    </tr>\n",
       "    <tr>\n",
       "      <th>7448160</th>\n",
       "      <td>VA0010000</td>\n",
       "      <td>2020.0</td>\n",
       "      <td>virginia</td>\n",
       "      <td>VA</td>\n",
       "      <td>2W2HGU7 8G8A</td>\n",
       "      <td>2020-06-01</td>\n",
       "      <td>robbery</td>\n",
       "      <td>completed</td>\n",
       "      <td>not applicable</td>\n",
       "      <td>NaN</td>\n",
       "      <td>...</td>\n",
       "      <td>NaN</td>\n",
       "      <td>NaN</td>\n",
       "      <td>handgun</td>\n",
       "      <td>automatic weapon</td>\n",
       "      <td>NaN</td>\n",
       "      <td>NaN</td>\n",
       "      <td>NaN</td>\n",
       "      <td>NaN</td>\n",
       "      <td>no bias motivation</td>\n",
       "      <td>VA0010000 2W2HGU7 8G8A</td>\n",
       "    </tr>\n",
       "    <tr>\n",
       "      <th>7448195</th>\n",
       "      <td>VA0010000</td>\n",
       "      <td>2020.0</td>\n",
       "      <td>virginia</td>\n",
       "      <td>VA</td>\n",
       "      <td>2W2HGU7 JNBA</td>\n",
       "      <td>2020-06-20</td>\n",
       "      <td>aggravated assault</td>\n",
       "      <td>completed</td>\n",
       "      <td>alcohol</td>\n",
       "      <td>NaN</td>\n",
       "      <td>...</td>\n",
       "      <td>NaN</td>\n",
       "      <td>NaN</td>\n",
       "      <td>personal weapons (hands, feet, teeth, etc.)</td>\n",
       "      <td>NaN</td>\n",
       "      <td>NaN</td>\n",
       "      <td>NaN</td>\n",
       "      <td>NaN</td>\n",
       "      <td>NaN</td>\n",
       "      <td>no bias motivation</td>\n",
       "      <td>VA0010000 2W2HGU7 JNBA</td>\n",
       "    </tr>\n",
       "    <tr>\n",
       "      <th>7448202</th>\n",
       "      <td>VA0010000</td>\n",
       "      <td>2020.0</td>\n",
       "      <td>virginia</td>\n",
       "      <td>VA</td>\n",
       "      <td>2W2HGU7 L66A</td>\n",
       "      <td>2020-06-09</td>\n",
       "      <td>robbery</td>\n",
       "      <td>completed</td>\n",
       "      <td>alcohol</td>\n",
       "      <td>NaN</td>\n",
       "      <td>...</td>\n",
       "      <td>NaN</td>\n",
       "      <td>NaN</td>\n",
       "      <td>none</td>\n",
       "      <td>NaN</td>\n",
       "      <td>NaN</td>\n",
       "      <td>NaN</td>\n",
       "      <td>NaN</td>\n",
       "      <td>NaN</td>\n",
       "      <td>no bias motivation</td>\n",
       "      <td>VA0010000 2W2HGU7 L66A</td>\n",
       "    </tr>\n",
       "    <tr>\n",
       "      <th>7448205</th>\n",
       "      <td>VA0010000</td>\n",
       "      <td>2020.0</td>\n",
       "      <td>virginia</td>\n",
       "      <td>VA</td>\n",
       "      <td>2W2HGU7 LC6A</td>\n",
       "      <td>2020-06-12</td>\n",
       "      <td>aggravated assault</td>\n",
       "      <td>completed</td>\n",
       "      <td>not applicable</td>\n",
       "      <td>NaN</td>\n",
       "      <td>...</td>\n",
       "      <td>NaN</td>\n",
       "      <td>NaN</td>\n",
       "      <td>other firearm</td>\n",
       "      <td>NaN</td>\n",
       "      <td>NaN</td>\n",
       "      <td>NaN</td>\n",
       "      <td>NaN</td>\n",
       "      <td>NaN</td>\n",
       "      <td>no bias motivation</td>\n",
       "      <td>VA0010000 2W2HGU7 LC6A</td>\n",
       "    </tr>\n",
       "  </tbody>\n",
       "</table>\n",
       "<p>5 rows × 25 columns</p>\n",
       "</div>"
      ],
      "text/plain": [
       "               ori    year     state state_abb incident_number incident_date  \\\n",
       "7448148  VA0010000  2020.0  virginia        VA    2W2HGU7 7NBA    2020-07-04   \n",
       "7448160  VA0010000  2020.0  virginia        VA    2W2HGU7 8G8A    2020-06-01   \n",
       "7448195  VA0010000  2020.0  virginia        VA    2W2HGU7 JNBA    2020-06-20   \n",
       "7448202  VA0010000  2020.0  virginia        VA    2W2HGU7 L66A    2020-06-09   \n",
       "7448205  VA0010000  2020.0  virginia        VA    2W2HGU7 LC6A    2020-06-12   \n",
       "\n",
       "           ucr_offense_code offense_attempted_or_completed  \\\n",
       "7448148  aggravated assault                      completed   \n",
       "7448160             robbery                      completed   \n",
       "7448195  aggravated assault                      completed   \n",
       "7448202             robbery                      completed   \n",
       "7448205  aggravated assault                      completed   \n",
       "\n",
       "        offender_suspected_of_using_1 offender_suspected_of_using_2  ...  \\\n",
       "7448148                not applicable                           NaN  ...   \n",
       "7448160                not applicable                           NaN  ...   \n",
       "7448195                       alcohol                           NaN  ...   \n",
       "7448202                       alcohol                           NaN  ...   \n",
       "7448205                not applicable                           NaN  ...   \n",
       "\n",
       "        type_criminal_activity_2 type_criminal_activity_3  \\\n",
       "7448148                      NaN                      NaN   \n",
       "7448160                      NaN                      NaN   \n",
       "7448195                      NaN                      NaN   \n",
       "7448202                      NaN                      NaN   \n",
       "7448205                      NaN                      NaN   \n",
       "\n",
       "                        type_weapon_force_involved_1  \\\n",
       "7448148                                      handgun   \n",
       "7448160                                      handgun   \n",
       "7448195  personal weapons (hands, feet, teeth, etc.)   \n",
       "7448202                                         none   \n",
       "7448205                                other firearm   \n",
       "\n",
       "        automatic_weapon_indicator_1 type_weapon_force_involved_2  \\\n",
       "7448148             automatic weapon                          NaN   \n",
       "7448160             automatic weapon                          NaN   \n",
       "7448195                          NaN                          NaN   \n",
       "7448202                          NaN                          NaN   \n",
       "7448205                          NaN                          NaN   \n",
       "\n",
       "        automatic_weapon_indicator_2 type_weapon_force_involved_3  \\\n",
       "7448148                          NaN                          NaN   \n",
       "7448160                          NaN                          NaN   \n",
       "7448195                          NaN                          NaN   \n",
       "7448202                          NaN                          NaN   \n",
       "7448205                          NaN                          NaN   \n",
       "\n",
       "        automatic_weapon_indicator_3     bias_motivation  \\\n",
       "7448148                          NaN  no bias motivation   \n",
       "7448160                          NaN  no bias motivation   \n",
       "7448195                          NaN  no bias motivation   \n",
       "7448202                          NaN  no bias motivation   \n",
       "7448205                          NaN  no bias motivation   \n",
       "\n",
       "             unique_incident_id  \n",
       "7448148  VA0010000 2W2HGU7 7NBA  \n",
       "7448160  VA0010000 2W2HGU7 8G8A  \n",
       "7448195  VA0010000 2W2HGU7 JNBA  \n",
       "7448202  VA0010000 2W2HGU7 L66A  \n",
       "7448205  VA0010000 2W2HGU7 LC6A  \n",
       "\n",
       "[5 rows x 25 columns]"
      ]
     },
     "execution_count": 9,
     "metadata": {},
     "output_type": "execute_result"
    }
   ],
   "source": [
    "df.head()"
   ]
  },
  {
   "cell_type": "markdown",
   "metadata": {},
   "source": [
    "### Let's restrict it to Police Departments that participated each year"
   ]
  },
  {
   "cell_type": "code",
   "execution_count": 10,
   "metadata": {},
   "outputs": [
    {
     "name": "stdout",
     "output_type": "stream",
     "text": [
      "For year 2016.0, missing departments: {'VA0110000', 'VA023SP00', 'VA0810300', 'VA0750700', 'VA115SP00', 'VA0330300', 'VA0520100', 'VA067SP00', 'VA093SP00', 'VA075S100', 'VA0820300', 'VA1220400', 'VA0430700', 'VA0380200', 'VA079SP00', 'VA045SP00', 'VA1170800', 'VA019SP00', 'VA0780000', 'VA0750600', 'VA048SP00', 'VA0860200', 'VA0730200', 'VA082099E', 'VA0690300', 'VA1090100', 'VA062019P', 'VA0350300', 'VA0140100', 'VA1300900', 'VA0580400', 'VA0260200', 'VA098SP00', 'VA0680200', 'VA070SP00', 'VA0430300', 'VA090SP00', 'VA046SP00', 'VA114SP00', 'VA078SP00', 'VA0690200', 'VA091SP00', 'VA0750500', 'VA0740200', 'VA0820100', 'VA101SP00', 'VA0710100', 'VA0860300', 'VA127SP00', 'VA049SP00', 'VA044SP00', 'VA0410100', 'VA0840200', 'VA0010500', 'VA100SP00', 'VA102SP00', 'VA030SP00', 'VA107SP00', 'VA0840100', 'VA050SP00', 'VA0710200'}\n",
      "For year 2017.0, missing departments: {'VA0550100', 'VA0810300', 'VA0750700', 'VA115SP00', 'VA067SP00', 'VA075S100', 'VA0820300', 'VA118SP00', 'VA1220400', 'VA022SP00', 'VA1220300', 'VA130SP00', 'VA079SP00', 'VA105SP00', 'VA0220100', 'VA019SP00', 'VA1190300', 'VA0730200', 'VA0130100', 'VA0850500', 'VA131SP00', 'VA082099E', 'VA062019P', 'VA0350300', 'VA036SP00', 'VA0140100', 'VA1300900', 'VA1110300', 'VA0300100', 'VA0710300', 'VA0180100', 'VA059SP00', 'VA0580400', 'VA113SP00', 'VA121SP00', 'VA052SP00', 'VA084SP00', 'VA0960400', 'VA070SP00', 'VA031SP00', 'VA053SP00', 'VA0430300', 'VA0290400', 'VA090SP00', 'VA041SP00', 'VA1300100', 'VA0920500', 'VA046SP00', 'VA0790100', 'VA028SP00', 'VA011SP00', 'VA006SP00', 'VA0010300', 'VA091SP00', 'VA0740200', 'VA101SP00', 'VA0860300', 'VA0710100', 'VA0840200', 'VA0940300', 'VA129SP00', 'VA102SP00', 'VA0230000', 'VA050SP00', 'VA0710200'}\n",
      "For year 2018.0, missing departments: {'VA0550100', 'VA0810300', 'VA0750700', 'VA0330300', 'VA0520100', 'VA032SP00', 'VA093SP00', 'VA040S100', 'VA066SP00', 'VA047SP00', 'VA118SP00', 'VA1220400', 'VA1220300', 'VA0430700', 'VA130SP00', 'VA0960500', 'VA105SP00', 'VA045SP00', 'VA123SP00', 'VA1170800', 'VA1190300', 'VA048SP00', 'VA0860200', 'VA131SP00', 'VA082099E', 'VA062019P', 'VA036SP00', 'VA057SP00', 'VA1300900', 'VA1110300', 'VA0300100', 'VA0710300', 'VA121SP00', 'VA113SP00', 'VA0260200', 'VA0350400', 'VA035SP00', 'VA0290400', 'VA0580300', 'VA0920500', 'VA046SP00', 'VA0790100', 'VA051SP00', 'VA078SP00', 'VA127SP00', 'VA0860300', 'VA0710100', 'VA009SP00', 'VA0940300', 'VA0010500', 'VA0940200', 'VA054SP00', 'VA112SP00', 'VA0840100', 'VA050SP00', 'VA0710200'}\n",
      "For year 2019.0, missing departments: {'VA023SP00', 'VA0550100', 'VA0810300', 'VA115SP00', 'VA0330300', 'VA0520100', 'VA1300200', 'VA109SP00', 'VA072SP00', 'VA040S100', 'VA075S100', 'VA106SP00', 'VA118SP00', 'VA1220400', 'VA1220300', 'VA0430700', 'VA130SP00', 'VA0380200', 'VA019SP00', 'VA0260100', 'VA1190300', 'VA0290500', 'VA1160400', 'VA131SP00', 'VA062019P', 'VA065SP00', 'VA057SP00', 'VA1110300', 'VA0300100', 'VA0710300', 'VA0580400', 'VA121SP00', 'VA0820600', 'VA1300400', 'VA0790000', 'VA0960400', 'VA0820500', 'VA0430300', 'VA090SP00', 'VA1300100', 'VA041SP00', 'VA0920500', 'VA024SP00', 'VA004SP00', 'VA114SP00', 'VA054SP00', 'VA0790100', 'VA0010300', 'VA0820200', 'VA0450000', 'VA0690200', 'VA091SP00', 'VA039SP00', 'VA005SP00', 'VA0820100', 'VA0740200', 'VA0710100', 'VA101SP00', 'VA0750500', 'VA0860300', 'VA096SP00', 'VA009SP00', 'VA0940300', 'VA0940200', 'VA129SP00', 'VA102SP00', 'VA0260200', 'VA038SP00'}\n",
      "For year 2020.0, missing departments: {'VA020SP00', 'VA0750700', 'VA115SP00', 'VA0330300', 'VA002SP00', 'VA067SP00', 'VA047SP00', 'VA040S100', 'VA1190200', 'VA106SP00', 'VA075S100', 'VA118SP00', 'VA0820300', 'VA022SP00', 'VA056SP00', 'VA130SP00', 'VA0380200', 'VA0220100', 'VA0510100', 'VA045SP00', 'VA019SP00', 'VA0430700', 'VA0260100', 'VA1190300', 'VA1110400', 'VA0290500', 'VA1160400', 'VA0730200', 'VA048SP00', 'VA0130100', 'VA0340200', 'VA0690300', 'VA1090100', 'VA057SP00', 'VA1300900', 'VA1110300', 'VA0300100', 'VA0710300', 'VA059SP00', 'VA0580400', 'VA113SP00', 'VA1300400', 'VA121SP00', 'VA0790000', 'VA069SP00', 'VA0960400', 'VA080S100', 'VA035SP00', 'VA031SP00', 'VA0820500', 'VA0350400', 'VA0430300', 'VA0290400', 'VA090SP00', 'VA1300100', 'VA0920500', 'VA0850200', 'VA0790100', 'VA114SP00', 'VA028SP00', 'VA025SP00', 'VA006SP00', 'VA078SP00', 'VA127SP00', 'VA0750500', 'VA005SP00', 'VA0740200', 'VA101SP00', 'VA0410100', 'VA0540100', 'VA0840200', 'VA0680200', 'VA100SP00', 'VA102SP00', 'VA0260200', 'VA107SP00'}\n"
     ]
    }
   ],
   "source": [
    "departments = {} # format is gonna be year: set of departments\n",
    "for year in list(pd.unique(offenses['year'])):\n",
    "    departments[year] = set(offenses[offenses['year']==year]['ori'])\n",
    "total_depts = set(pd.unique(offenses['ori']))\n",
    "missing_depts = set()\n",
    "for year, dept in departments.items():\n",
    "    print(f'For year {year}, missing departments: {total_depts.difference(dept)}')\n",
    "    missing_depts = missing_depts.union(total_depts.difference(dept))"
   ]
  },
  {
   "cell_type": "markdown",
   "metadata": {},
   "source": [
    "Although the list of missing departments looks long, it only removes 745 offenses."
   ]
  },
  {
   "cell_type": "code",
   "execution_count": 15,
   "metadata": {},
   "outputs": [],
   "source": [
    "offenses =offenses[~offenses['ori'].isin(missing_depts)].loc[:]"
   ]
  },
  {
   "cell_type": "markdown",
   "metadata": {},
   "source": [
    "### Let's identify weapons involved in the offense\n",
    "Within the data, this is located in up to 4 fields because of how it was prepared."
   ]
  },
  {
   "cell_type": "code",
   "execution_count": 16,
   "metadata": {},
   "outputs": [
    {
     "data": {
      "text/plain": [
       "array(['handgun', 'personal weapons (hands, feet, teeth, etc.)',\n",
       "       'firearm (type not stated)',\n",
       "       'knife/cutting instrument (ice pick, screwdriver, ax, etc.)',\n",
       "       'blunt object (club, hammer, etc.)', 'unknown', 'none',\n",
       "       'asphyxiation (by drowning, strangulation, suffocation, gas, etc.)',\n",
       "       'other', 'rifle', 'motor vehicle', 'fire/incendiary device',\n",
       "       'drugs/narcotics/sleeping pills', 'shotgun', 'other firearm',\n",
       "       'poison (include gas)', 'explosives'], dtype=object)"
      ]
     },
     "execution_count": 16,
     "metadata": {},
     "output_type": "execute_result"
    }
   ],
   "source": [
    "pd.unique(offenses['type_weapon_force_involved_1'])"
   ]
  },
  {
   "cell_type": "code",
   "execution_count": 17,
   "metadata": {},
   "outputs": [
    {
     "data": {
      "text/plain": [
       "array([nan, 'rifle', 'personal weapons (hands, feet, teeth, etc.)',\n",
       "       'shotgun', 'blunt object (club, hammer, etc.)', 'other', 'handgun',\n",
       "       'knife/cutting instrument (ice pick, screwdriver, ax, etc.)',\n",
       "       'firearm (type not stated)', 'explosives',\n",
       "       'asphyxiation (by drowning, strangulation, suffocation, gas, etc.)',\n",
       "       'motor vehicle', 'unknown', 'other firearm',\n",
       "       'drugs/narcotics/sleeping pills', 'fire/incendiary device',\n",
       "       'poison (include gas)'], dtype=object)"
      ]
     },
     "execution_count": 17,
     "metadata": {},
     "output_type": "execute_result"
    }
   ],
   "source": [
    "pd.unique(offenses['type_weapon_force_involved_2'])"
   ]
  },
  {
   "cell_type": "code",
   "execution_count": 18,
   "metadata": {},
   "outputs": [
    {
     "data": {
      "text/plain": [
       "array([nan, 'blunt object (club, hammer, etc.)',\n",
       "       'knife/cutting instrument (ice pick, screwdriver, ax, etc.)',\n",
       "       'handgun', 'personal weapons (hands, feet, teeth, etc.)', 'rifle',\n",
       "       'asphyxiation (by drowning, strangulation, suffocation, gas, etc.)',\n",
       "       'drugs/narcotics/sleeping pills', 'shotgun', 'other',\n",
       "       'other firearm', 'firearm (type not stated)', 'unknown',\n",
       "       'poison (include gas)', 'fire/incendiary device', 'motor vehicle'],\n",
       "      dtype=object)"
      ]
     },
     "execution_count": 18,
     "metadata": {},
     "output_type": "execute_result"
    }
   ],
   "source": [
    "pd.unique(offenses['type_weapon_force_involved_3'])"
   ]
  },
  {
   "cell_type": "code",
   "execution_count": 39,
   "metadata": {},
   "outputs": [],
   "source": [
    "def weapon_involved(values):\n",
    "    '''Accepts a list and checks if any values indicate firearm or gun'''\n",
    "    check_string = ', '.join([str(value) for value in values]).lower() # ensure it's a string\n",
    "    if 'firearm' in check_string or 'gun' in check_string or'rifle' in check_string:\n",
    "        return 1\n",
    "    else:\n",
    "        return 0"
   ]
  },
  {
   "cell_type": "code",
   "execution_count": 40,
   "metadata": {},
   "outputs": [],
   "source": [
    "offenses['firearm_involved'] = offenses.apply(lambda x: weapon_involved([x['type_weapon_force_involved_1'], x['type_weapon_force_involved_2'], x['type_weapon_force_involved_3']]), axis=1)"
   ]
  },
  {
   "cell_type": "code",
   "execution_count": 41,
   "metadata": {},
   "outputs": [],
   "source": [
    "offenses['firearm_involved'].fillna(0, inplace=True)"
   ]
  },
  {
   "cell_type": "markdown",
   "metadata": {},
   "source": [
    "### If any of the offenses involve firearm, gun or rifle in either of the 3 type_weapon_force_involved columns, it's a 1 else 0"
   ]
  },
  {
   "cell_type": "code",
   "execution_count": 42,
   "metadata": {},
   "outputs": [
    {
     "data": {
      "text/html": [
       "<div>\n",
       "<style scoped>\n",
       "    .dataframe tbody tr th:only-of-type {\n",
       "        vertical-align: middle;\n",
       "    }\n",
       "\n",
       "    .dataframe tbody tr th {\n",
       "        vertical-align: top;\n",
       "    }\n",
       "\n",
       "    .dataframe thead th {\n",
       "        text-align: right;\n",
       "    }\n",
       "</style>\n",
       "<table border=\"1\" class=\"dataframe\">\n",
       "  <thead>\n",
       "    <tr style=\"text-align: right;\">\n",
       "      <th></th>\n",
       "      <th></th>\n",
       "      <th>CtCrimes</th>\n",
       "    </tr>\n",
       "    <tr>\n",
       "      <th>year</th>\n",
       "      <th>firearm_involved</th>\n",
       "      <th></th>\n",
       "    </tr>\n",
       "  </thead>\n",
       "  <tbody>\n",
       "    <tr>\n",
       "      <th rowspan=\"2\" valign=\"top\">2016.0</th>\n",
       "      <th>0</th>\n",
       "      <td>8782</td>\n",
       "    </tr>\n",
       "    <tr>\n",
       "      <th>1</th>\n",
       "      <td>5529</td>\n",
       "    </tr>\n",
       "    <tr>\n",
       "      <th rowspan=\"2\" valign=\"top\">2017.0</th>\n",
       "      <th>0</th>\n",
       "      <td>8146</td>\n",
       "    </tr>\n",
       "    <tr>\n",
       "      <th>1</th>\n",
       "      <td>4888</td>\n",
       "    </tr>\n",
       "    <tr>\n",
       "      <th rowspan=\"2\" valign=\"top\">2018.0</th>\n",
       "      <th>0</th>\n",
       "      <td>8165</td>\n",
       "    </tr>\n",
       "    <tr>\n",
       "      <th>1</th>\n",
       "      <td>4465</td>\n",
       "    </tr>\n",
       "    <tr>\n",
       "      <th rowspan=\"2\" valign=\"top\">2019.0</th>\n",
       "      <th>0</th>\n",
       "      <td>8350</td>\n",
       "    </tr>\n",
       "    <tr>\n",
       "      <th>1</th>\n",
       "      <td>4701</td>\n",
       "    </tr>\n",
       "    <tr>\n",
       "      <th rowspan=\"2\" valign=\"top\">2020.0</th>\n",
       "      <th>0</th>\n",
       "      <td>7829</td>\n",
       "    </tr>\n",
       "    <tr>\n",
       "      <th>1</th>\n",
       "      <td>5447</td>\n",
       "    </tr>\n",
       "  </tbody>\n",
       "</table>\n",
       "</div>"
      ],
      "text/plain": [
       "                         CtCrimes\n",
       "year   firearm_involved          \n",
       "2016.0 0                     8782\n",
       "       1                     5529\n",
       "2017.0 0                     8146\n",
       "       1                     4888\n",
       "2018.0 0                     8165\n",
       "       1                     4465\n",
       "2019.0 0                     8350\n",
       "       1                     4701\n",
       "2020.0 0                     7829\n",
       "       1                     5447"
      ]
     },
     "execution_count": 42,
     "metadata": {},
     "output_type": "execute_result"
    }
   ],
   "source": [
    "offenses.groupby(['year', 'firearm_involved']).agg(CtCrimes=('firearm_involved','count')).head(15)"
   ]
  },
  {
   "cell_type": "code",
   "execution_count": 44,
   "metadata": {},
   "outputs": [],
   "source": [
    "offenses.to_csv('..\\data\\processed\\offenses_firearm_indicator.csv')"
   ]
  },
  {
   "cell_type": "code",
   "execution_count": null,
   "metadata": {},
   "outputs": [],
   "source": []
  }
 ],
 "metadata": {
  "kernelspec": {
   "display_name": "Python 3",
   "language": "python",
   "name": "python3"
  },
  "language_info": {
   "codemirror_mode": {
    "name": "ipython",
    "version": 3
   },
   "file_extension": ".py",
   "mimetype": "text/x-python",
   "name": "python",
   "nbconvert_exporter": "python",
   "pygments_lexer": "ipython3",
   "version": "3.11.5"
  },
  "orig_nbformat": 4
 },
 "nbformat": 4,
 "nbformat_minor": 2
}
