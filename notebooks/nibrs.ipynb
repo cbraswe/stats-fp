{
 "cells": [
  {
   "cell_type": "markdown",
   "metadata": {},
   "source": [
    "### NIBRS Data\n",
    "An incident can have many different \"offenses\" attached to it (i.e., Robbery, Motor Vehicle Theft). For each offense, it can have many different offenders, arrestees, victims, and property mentioned. \n",
    "\n",
    "To account for this, the dataset is separable into 6 combinations, and a full join on everything would result in offenses with multiple arrestees being listed twice.\n",
    "\n",
    "Virginia first started using the NIBRS system in 1994; however, it was still up to each individual police department to report crimes in a format they want. \n",
    "\n",
    "Two goals with NIBRS data:\n",
    "- Are we consistent with police departments we include?\n",
    "- Are we still representative of the state by population and demographics (rural, urban)?"
   ]
  },
  {
   "cell_type": "code",
   "execution_count": null,
   "metadata": {
    "vscode": {
     "languageId": "plaintext"
    }
   },
   "outputs": [],
   "source": []
  },
  {
   "cell_type": "code",
   "execution_count": null,
   "metadata": {
    "vscode": {
     "languageId": "plaintext"
    }
   },
   "outputs": [],
   "source": []
  },
  {
   "cell_type": "code",
   "execution_count": null,
   "metadata": {
    "vscode": {
     "languageId": "plaintext"
    }
   },
   "outputs": [],
   "source": [
    "import requests"
   ]
  },
  {
   "cell_type": "markdown",
   "metadata": {},
   "source": []
  }
 ],
 "metadata": {
  "language_info": {
   "name": "python"
  },
  "orig_nbformat": 4
 },
 "nbformat": 4,
 "nbformat_minor": 2
}
